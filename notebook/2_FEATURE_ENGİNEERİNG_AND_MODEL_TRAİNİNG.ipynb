{
 "cells": [
  {
   "cell_type": "markdown",
   "id": "0d3dea3c",
   "metadata": {},
   "source": [
    "# Data Pre-Processing\n",
    "#### Import Packages and CSV"
   ]
  },
  {
   "cell_type": "code",
   "execution_count": 10,
   "id": "dec41a96",
   "metadata": {},
   "outputs": [
    {
     "name": "stdout",
     "output_type": "stream",
     "text": [
      "(25480, 12)\n"
     ]
    }
   ],
   "source": [
    "import pandas as pd\n",
    "import numpy as np\n",
    "import matplotlib.pyplot as plt\n",
    "import seaborn as sns\n",
    "import warnings\n",
    "warnings.filterwarnings(\"ignore\")\n",
    "pd.pandas.set_option(\"display.max_columns\",None)\n",
    "\n",
    "df = pd.read_csv(\"EasyVisa.csv\")\n",
    "print(df.shape)"
   ]
  },
  {
   "cell_type": "markdown",
   "id": "ac166cfe",
   "metadata": {},
   "source": [
    "# Data Cleaning\t\n",
    "    *\tHandling Missing Values - Eksik Değerlerin Ele Alınması\n",
    "\t*\tHandling Duplicates - Çift Kopyaların Ele Alınması\n",
    "\t*\tCheck Data Type - Veri Tiplerini Kontrol Etme\n",
    "\t*\tUnderstand the Dataset - Veriyi Anlama\n",
    "\t\t\n",
    "## Check Null Values - Null (Boş) Değerleri Kontrol Etme"
   ]
  },
  {
   "cell_type": "code",
   "execution_count": 11,
   "id": "0ca60603",
   "metadata": {},
   "outputs": [],
   "source": [
    "features_with_na = [features for features in df.columns if df[features].isnull().sum()>=1]\n",
    "for feature in features_with_na:\n",
    "    print(feature,np.round(df[feature].isnull().mean()*100,5))"
   ]
  },
  {
   "cell_type": "code",
   "execution_count": 12,
   "id": "9923ad1f",
   "metadata": {},
   "outputs": [
    {
     "data": {
      "text/plain": [
       "[]"
      ]
     },
     "execution_count": 12,
     "metadata": {},
     "output_type": "execute_result"
    }
   ],
   "source": [
    "features_with_na"
   ]
  },
  {
   "cell_type": "markdown",
   "id": "54184318",
   "metadata": {},
   "source": [
    "* Veri setinde null (boş) değerler yok."
   ]
  },
  {
   "cell_type": "markdown",
   "id": "8a519fe6",
   "metadata": {},
   "source": [
    "# 3.2 Diğer Veri Temizleme Adımları\n",
    "   * Çift Kopyaların Ele Alınması"
   ]
  },
  {
   "cell_type": "code",
   "execution_count": 13,
   "id": "adad8932",
   "metadata": {},
   "outputs": [
    {
     "data": {
      "text/plain": [
       "0"
      ]
     },
     "execution_count": 13,
     "metadata": {},
     "output_type": "execute_result"
    }
   ],
   "source": [
    "df.duplicated().sum()"
   ]
  },
  {
   "cell_type": "markdown",
   "id": "7c9cea74",
   "metadata": {},
   "source": [
    "* Veri setinde çift kopya yok.\n",
    "* case_id’yi veri setinden çıkarın, çünkü model eğitiminde kullanılamaz."
   ]
  },
  {
   "cell_type": "code",
   "execution_count": 14,
   "id": "fc77dfbb",
   "metadata": {},
   "outputs": [],
   "source": [
    "df.drop('case_id',inplace=True, axis=1)"
   ]
  },
  {
   "cell_type": "markdown",
   "id": "ae298d8b",
   "metadata": {},
   "source": [
    "# Feature Engineering (Özellik Mühendisliği)\n",
    "  ###  Feature Extraction (Özellik Çıkartma)"
   ]
  },
  {
   "cell_type": "code",
   "execution_count": 15,
   "id": "5556bb79",
   "metadata": {},
   "outputs": [
    {
     "data": {
      "text/html": [
       "<div>\n",
       "<style scoped>\n",
       "    .dataframe tbody tr th:only-of-type {\n",
       "        vertical-align: middle;\n",
       "    }\n",
       "\n",
       "    .dataframe tbody tr th {\n",
       "        vertical-align: top;\n",
       "    }\n",
       "\n",
       "    .dataframe thead th {\n",
       "        text-align: right;\n",
       "    }\n",
       "</style>\n",
       "<table border=\"1\" class=\"dataframe\">\n",
       "  <thead>\n",
       "    <tr style=\"text-align: right;\">\n",
       "      <th></th>\n",
       "      <th>continent</th>\n",
       "      <th>education_of_employee</th>\n",
       "      <th>has_job_experience</th>\n",
       "      <th>requires_job_training</th>\n",
       "      <th>no_of_employees</th>\n",
       "      <th>yr_of_estab</th>\n",
       "      <th>region_of_employment</th>\n",
       "      <th>prevailing_wage</th>\n",
       "      <th>unit_of_wage</th>\n",
       "      <th>full_time_position</th>\n",
       "      <th>case_status</th>\n",
       "    </tr>\n",
       "  </thead>\n",
       "  <tbody>\n",
       "    <tr>\n",
       "      <th>0</th>\n",
       "      <td>Asia</td>\n",
       "      <td>High School</td>\n",
       "      <td>N</td>\n",
       "      <td>N</td>\n",
       "      <td>14513</td>\n",
       "      <td>2007</td>\n",
       "      <td>West</td>\n",
       "      <td>592.2029</td>\n",
       "      <td>Hour</td>\n",
       "      <td>Y</td>\n",
       "      <td>Denied</td>\n",
       "    </tr>\n",
       "    <tr>\n",
       "      <th>1</th>\n",
       "      <td>Asia</td>\n",
       "      <td>Master's</td>\n",
       "      <td>Y</td>\n",
       "      <td>N</td>\n",
       "      <td>2412</td>\n",
       "      <td>2002</td>\n",
       "      <td>Northeast</td>\n",
       "      <td>83425.6500</td>\n",
       "      <td>Year</td>\n",
       "      <td>Y</td>\n",
       "      <td>Certified</td>\n",
       "    </tr>\n",
       "    <tr>\n",
       "      <th>2</th>\n",
       "      <td>Asia</td>\n",
       "      <td>Bachelor's</td>\n",
       "      <td>N</td>\n",
       "      <td>Y</td>\n",
       "      <td>44444</td>\n",
       "      <td>2008</td>\n",
       "      <td>West</td>\n",
       "      <td>122996.8600</td>\n",
       "      <td>Year</td>\n",
       "      <td>Y</td>\n",
       "      <td>Denied</td>\n",
       "    </tr>\n",
       "    <tr>\n",
       "      <th>3</th>\n",
       "      <td>Asia</td>\n",
       "      <td>Bachelor's</td>\n",
       "      <td>N</td>\n",
       "      <td>N</td>\n",
       "      <td>98</td>\n",
       "      <td>1897</td>\n",
       "      <td>West</td>\n",
       "      <td>83434.0300</td>\n",
       "      <td>Year</td>\n",
       "      <td>Y</td>\n",
       "      <td>Denied</td>\n",
       "    </tr>\n",
       "    <tr>\n",
       "      <th>4</th>\n",
       "      <td>Africa</td>\n",
       "      <td>Master's</td>\n",
       "      <td>Y</td>\n",
       "      <td>N</td>\n",
       "      <td>1082</td>\n",
       "      <td>2005</td>\n",
       "      <td>South</td>\n",
       "      <td>149907.3900</td>\n",
       "      <td>Year</td>\n",
       "      <td>Y</td>\n",
       "      <td>Certified</td>\n",
       "    </tr>\n",
       "  </tbody>\n",
       "</table>\n",
       "</div>"
      ],
      "text/plain": [
       "  continent education_of_employee has_job_experience requires_job_training  \\\n",
       "0      Asia           High School                  N                     N   \n",
       "1      Asia              Master's                  Y                     N   \n",
       "2      Asia            Bachelor's                  N                     Y   \n",
       "3      Asia            Bachelor's                  N                     N   \n",
       "4    Africa              Master's                  Y                     N   \n",
       "\n",
       "   no_of_employees  yr_of_estab region_of_employment  prevailing_wage  \\\n",
       "0            14513         2007                 West         592.2029   \n",
       "1             2412         2002            Northeast       83425.6500   \n",
       "2            44444         2008                 West      122996.8600   \n",
       "3               98         1897                 West       83434.0300   \n",
       "4             1082         2005                South      149907.3900   \n",
       "\n",
       "  unit_of_wage full_time_position case_status  \n",
       "0         Hour                  Y      Denied  \n",
       "1         Year                  Y   Certified  \n",
       "2         Year                  Y      Denied  \n",
       "3         Year                  Y      Denied  \n",
       "4         Year                  Y   Certified  "
      ]
     },
     "execution_count": 15,
     "metadata": {},
     "output_type": "execute_result"
    }
   ],
   "source": [
    "df.head()"
   ]
  },
  {
   "cell_type": "code",
   "execution_count": 16,
   "id": "ec19c4d8",
   "metadata": {},
   "outputs": [],
   "source": [
    "from datetime import date\n",
    "todays_date = date.today()\n",
    "current_year = todays_date.year"
   ]
  },
  {
   "cell_type": "code",
   "execution_count": 17,
   "id": "beee1cc8",
   "metadata": {},
   "outputs": [],
   "source": [
    "df['company_age'] = current_year - df['yr_of_estab']"
   ]
  },
  {
   "cell_type": "code",
   "execution_count": 18,
   "id": "e67e6240",
   "metadata": {},
   "outputs": [
    {
     "data": {
      "text/html": [
       "<div>\n",
       "<style scoped>\n",
       "    .dataframe tbody tr th:only-of-type {\n",
       "        vertical-align: middle;\n",
       "    }\n",
       "\n",
       "    .dataframe tbody tr th {\n",
       "        vertical-align: top;\n",
       "    }\n",
       "\n",
       "    .dataframe thead th {\n",
       "        text-align: right;\n",
       "    }\n",
       "</style>\n",
       "<table border=\"1\" class=\"dataframe\">\n",
       "  <thead>\n",
       "    <tr style=\"text-align: right;\">\n",
       "      <th></th>\n",
       "      <th>continent</th>\n",
       "      <th>education_of_employee</th>\n",
       "      <th>has_job_experience</th>\n",
       "      <th>requires_job_training</th>\n",
       "      <th>no_of_employees</th>\n",
       "      <th>yr_of_estab</th>\n",
       "      <th>region_of_employment</th>\n",
       "      <th>prevailing_wage</th>\n",
       "      <th>unit_of_wage</th>\n",
       "      <th>full_time_position</th>\n",
       "      <th>case_status</th>\n",
       "      <th>company_age</th>\n",
       "    </tr>\n",
       "  </thead>\n",
       "  <tbody>\n",
       "    <tr>\n",
       "      <th>0</th>\n",
       "      <td>Asia</td>\n",
       "      <td>High School</td>\n",
       "      <td>N</td>\n",
       "      <td>N</td>\n",
       "      <td>14513</td>\n",
       "      <td>2007</td>\n",
       "      <td>West</td>\n",
       "      <td>592.2029</td>\n",
       "      <td>Hour</td>\n",
       "      <td>Y</td>\n",
       "      <td>Denied</td>\n",
       "      <td>18</td>\n",
       "    </tr>\n",
       "    <tr>\n",
       "      <th>1</th>\n",
       "      <td>Asia</td>\n",
       "      <td>Master's</td>\n",
       "      <td>Y</td>\n",
       "      <td>N</td>\n",
       "      <td>2412</td>\n",
       "      <td>2002</td>\n",
       "      <td>Northeast</td>\n",
       "      <td>83425.6500</td>\n",
       "      <td>Year</td>\n",
       "      <td>Y</td>\n",
       "      <td>Certified</td>\n",
       "      <td>23</td>\n",
       "    </tr>\n",
       "    <tr>\n",
       "      <th>2</th>\n",
       "      <td>Asia</td>\n",
       "      <td>Bachelor's</td>\n",
       "      <td>N</td>\n",
       "      <td>Y</td>\n",
       "      <td>44444</td>\n",
       "      <td>2008</td>\n",
       "      <td>West</td>\n",
       "      <td>122996.8600</td>\n",
       "      <td>Year</td>\n",
       "      <td>Y</td>\n",
       "      <td>Denied</td>\n",
       "      <td>17</td>\n",
       "    </tr>\n",
       "    <tr>\n",
       "      <th>3</th>\n",
       "      <td>Asia</td>\n",
       "      <td>Bachelor's</td>\n",
       "      <td>N</td>\n",
       "      <td>N</td>\n",
       "      <td>98</td>\n",
       "      <td>1897</td>\n",
       "      <td>West</td>\n",
       "      <td>83434.0300</td>\n",
       "      <td>Year</td>\n",
       "      <td>Y</td>\n",
       "      <td>Denied</td>\n",
       "      <td>128</td>\n",
       "    </tr>\n",
       "    <tr>\n",
       "      <th>4</th>\n",
       "      <td>Africa</td>\n",
       "      <td>Master's</td>\n",
       "      <td>Y</td>\n",
       "      <td>N</td>\n",
       "      <td>1082</td>\n",
       "      <td>2005</td>\n",
       "      <td>South</td>\n",
       "      <td>149907.3900</td>\n",
       "      <td>Year</td>\n",
       "      <td>Y</td>\n",
       "      <td>Certified</td>\n",
       "      <td>20</td>\n",
       "    </tr>\n",
       "  </tbody>\n",
       "</table>\n",
       "</div>"
      ],
      "text/plain": [
       "  continent education_of_employee has_job_experience requires_job_training  \\\n",
       "0      Asia           High School                  N                     N   \n",
       "1      Asia              Master's                  Y                     N   \n",
       "2      Asia            Bachelor's                  N                     Y   \n",
       "3      Asia            Bachelor's                  N                     N   \n",
       "4    Africa              Master's                  Y                     N   \n",
       "\n",
       "   no_of_employees  yr_of_estab region_of_employment  prevailing_wage  \\\n",
       "0            14513         2007                 West         592.2029   \n",
       "1             2412         2002            Northeast       83425.6500   \n",
       "2            44444         2008                 West      122996.8600   \n",
       "3               98         1897                 West       83434.0300   \n",
       "4             1082         2005                South      149907.3900   \n",
       "\n",
       "  unit_of_wage full_time_position case_status  company_age  \n",
       "0         Hour                  Y      Denied           18  \n",
       "1         Year                  Y   Certified           23  \n",
       "2         Year                  Y      Denied           17  \n",
       "3         Year                  Y      Denied          128  \n",
       "4         Year                  Y   Certified           20  "
      ]
     },
     "execution_count": 18,
     "metadata": {},
     "output_type": "execute_result"
    }
   ],
   "source": [
    "df.head()"
   ]
  },
  {
   "cell_type": "code",
   "execution_count": 19,
   "id": "8cd9022e",
   "metadata": {},
   "outputs": [],
   "source": [
    "df.drop('yr_of_estab',inplace=True, axis=1)"
   ]
  },
  {
   "cell_type": "markdown",
   "id": "b9042e3c",
   "metadata": {},
   "source": [
    "# Type of Features (Özellik Türleri)\n",
    "\n",
    "#### Numeric Features (Sayısal Özellikler)"
   ]
  },
  {
   "cell_type": "code",
   "execution_count": 20,
   "id": "7885cfcd",
   "metadata": {},
   "outputs": [
    {
     "name": "stdout",
     "output_type": "stream",
     "text": [
      "Sayısal sütunların adeti : 3\n"
     ]
    }
   ],
   "source": [
    "num_features = [feature for feature in df.columns if df[feature].dtype != 'O']\n",
    "print('Sayısal sütunların adeti :',len(num_features) )"
   ]
  },
  {
   "cell_type": "markdown",
   "id": "b9918dea",
   "metadata": {},
   "source": [
    "#### Categorical Features (Kategorik Özellikler)"
   ]
  },
  {
   "cell_type": "code",
   "execution_count": 21,
   "id": "c31daba9",
   "metadata": {},
   "outputs": [
    {
     "name": "stdout",
     "output_type": "stream",
     "text": [
      "Kategorik sütunların adeti :  8\n"
     ]
    }
   ],
   "source": [
    "cat_features = [feature for feature in df.columns if df[feature].dtype == 'O']\n",
    "print('Kategorik sütunların adeti : ',len(cat_features))"
   ]
  },
  {
   "cell_type": "markdown",
   "id": "c8046f05",
   "metadata": {},
   "source": [
    "#### Discrete Features (Sürekli Olmayan Özellikler)"
   ]
  },
  {
   "cell_type": "code",
   "execution_count": 22,
   "id": "d28b1cc6",
   "metadata": {},
   "outputs": [
    {
     "name": "stdout",
     "output_type": "stream",
     "text": [
      "Sürekli Olmayan Sütunların Adeti : 0\n"
     ]
    }
   ],
   "source": [
    "discrete_features=[feature for feature in num_features if len(df[feature].unique())<=25]\n",
    "print('Sürekli Olmayan Sütunların Adeti :',len(discrete_features))"
   ]
  },
  {
   "cell_type": "markdown",
   "id": "1b2fecdd",
   "metadata": {},
   "source": [
    "#### Continuous Features (Sürekli Özellikler)"
   ]
  },
  {
   "cell_type": "code",
   "execution_count": 23,
   "id": "fd110873",
   "metadata": {},
   "outputs": [
    {
     "name": "stdout",
     "output_type": "stream",
     "text": [
      "Sürekli sütunların adeti : 3\n",
      "['no_of_employees', 'prevailing_wage', 'company_age']\n"
     ]
    }
   ],
   "source": [
    "continuous_features=[feature for feature in num_features if feature not in discrete_features]\n",
    "print('Sürekli sütunların adeti :',len(continuous_features))\n",
    "print(continuous_features)"
   ]
  },
  {
   "cell_type": "markdown",
   "id": "65b4f2ea",
   "metadata": {},
   "source": [
    "# Split X and Y\n",
    "\n",
    "* DataFrame’i X ve y olarak ayırma\n",
    "* Burada, bağımsız sütunları temsil eden X değişkenini ve bağımlı sütun olan “Case_Status” sütununu içeren y değişkenini belirliyoruz."
   ]
  },
  {
   "cell_type": "code",
   "execution_count": 24,
   "id": "460908fe",
   "metadata": {},
   "outputs": [],
   "source": [
    "X = df.drop('case_status',axis=1)\n",
    "y = df['case_status']"
   ]
  },
  {
   "cell_type": "code",
   "execution_count": 25,
   "id": "384022d0",
   "metadata": {},
   "outputs": [
    {
     "data": {
      "text/plain": [
       "0       Denied\n",
       "1    Certified\n",
       "2       Denied\n",
       "3       Denied\n",
       "4    Certified\n",
       "Name: case_status, dtype: object"
      ]
     },
     "execution_count": 25,
     "metadata": {},
     "output_type": "execute_result"
    }
   ],
   "source": [
    "y.head()"
   ]
  },
  {
   "cell_type": "markdown",
   "id": "f0a791c3",
   "metadata": {},
   "source": [
    "### Manuel encoding target column"
   ]
  },
  {
   "cell_type": "code",
   "execution_count": 26,
   "id": "6ca667af",
   "metadata": {},
   "outputs": [],
   "source": [
    "# Target column içerisindeki Denied olanlara 1 Certified olanlara 0 atayalım\n",
    "y = np.where(y=='Denied',1,0)"
   ]
  },
  {
   "cell_type": "code",
   "execution_count": 27,
   "id": "558029ff",
   "metadata": {},
   "outputs": [
    {
     "data": {
      "text/plain": [
       "array([1, 0, 1, ..., 0, 0, 0])"
      ]
     },
     "execution_count": 27,
     "metadata": {},
     "output_type": "execute_result"
    }
   ],
   "source": [
    "y"
   ]
  },
  {
   "cell_type": "code",
   "execution_count": 29,
   "id": "87998248",
   "metadata": {},
   "outputs": [
    {
     "data": {
      "text/html": [
       "<div>\n",
       "<style scoped>\n",
       "    .dataframe tbody tr th:only-of-type {\n",
       "        vertical-align: middle;\n",
       "    }\n",
       "\n",
       "    .dataframe tbody tr th {\n",
       "        vertical-align: top;\n",
       "    }\n",
       "\n",
       "    .dataframe thead th {\n",
       "        text-align: right;\n",
       "    }\n",
       "</style>\n",
       "<table border=\"1\" class=\"dataframe\">\n",
       "  <thead>\n",
       "    <tr style=\"text-align: right;\">\n",
       "      <th></th>\n",
       "      <th>continent</th>\n",
       "      <th>education_of_employee</th>\n",
       "      <th>has_job_experience</th>\n",
       "      <th>requires_job_training</th>\n",
       "      <th>no_of_employees</th>\n",
       "      <th>region_of_employment</th>\n",
       "      <th>prevailing_wage</th>\n",
       "      <th>unit_of_wage</th>\n",
       "      <th>full_time_position</th>\n",
       "      <th>company_age</th>\n",
       "    </tr>\n",
       "  </thead>\n",
       "  <tbody>\n",
       "    <tr>\n",
       "      <th>0</th>\n",
       "      <td>Asia</td>\n",
       "      <td>High School</td>\n",
       "      <td>N</td>\n",
       "      <td>N</td>\n",
       "      <td>14513</td>\n",
       "      <td>West</td>\n",
       "      <td>592.2029</td>\n",
       "      <td>Hour</td>\n",
       "      <td>Y</td>\n",
       "      <td>18</td>\n",
       "    </tr>\n",
       "    <tr>\n",
       "      <th>1</th>\n",
       "      <td>Asia</td>\n",
       "      <td>Master's</td>\n",
       "      <td>Y</td>\n",
       "      <td>N</td>\n",
       "      <td>2412</td>\n",
       "      <td>Northeast</td>\n",
       "      <td>83425.6500</td>\n",
       "      <td>Year</td>\n",
       "      <td>Y</td>\n",
       "      <td>23</td>\n",
       "    </tr>\n",
       "    <tr>\n",
       "      <th>2</th>\n",
       "      <td>Asia</td>\n",
       "      <td>Bachelor's</td>\n",
       "      <td>N</td>\n",
       "      <td>Y</td>\n",
       "      <td>44444</td>\n",
       "      <td>West</td>\n",
       "      <td>122996.8600</td>\n",
       "      <td>Year</td>\n",
       "      <td>Y</td>\n",
       "      <td>17</td>\n",
       "    </tr>\n",
       "    <tr>\n",
       "      <th>3</th>\n",
       "      <td>Asia</td>\n",
       "      <td>Bachelor's</td>\n",
       "      <td>N</td>\n",
       "      <td>N</td>\n",
       "      <td>98</td>\n",
       "      <td>West</td>\n",
       "      <td>83434.0300</td>\n",
       "      <td>Year</td>\n",
       "      <td>Y</td>\n",
       "      <td>128</td>\n",
       "    </tr>\n",
       "    <tr>\n",
       "      <th>4</th>\n",
       "      <td>Africa</td>\n",
       "      <td>Master's</td>\n",
       "      <td>Y</td>\n",
       "      <td>N</td>\n",
       "      <td>1082</td>\n",
       "      <td>South</td>\n",
       "      <td>149907.3900</td>\n",
       "      <td>Year</td>\n",
       "      <td>Y</td>\n",
       "      <td>20</td>\n",
       "    </tr>\n",
       "    <tr>\n",
       "      <th>...</th>\n",
       "      <td>...</td>\n",
       "      <td>...</td>\n",
       "      <td>...</td>\n",
       "      <td>...</td>\n",
       "      <td>...</td>\n",
       "      <td>...</td>\n",
       "      <td>...</td>\n",
       "      <td>...</td>\n",
       "      <td>...</td>\n",
       "      <td>...</td>\n",
       "    </tr>\n",
       "    <tr>\n",
       "      <th>25475</th>\n",
       "      <td>Asia</td>\n",
       "      <td>Bachelor's</td>\n",
       "      <td>Y</td>\n",
       "      <td>Y</td>\n",
       "      <td>2601</td>\n",
       "      <td>South</td>\n",
       "      <td>77092.5700</td>\n",
       "      <td>Year</td>\n",
       "      <td>Y</td>\n",
       "      <td>17</td>\n",
       "    </tr>\n",
       "    <tr>\n",
       "      <th>25476</th>\n",
       "      <td>Asia</td>\n",
       "      <td>High School</td>\n",
       "      <td>Y</td>\n",
       "      <td>N</td>\n",
       "      <td>3274</td>\n",
       "      <td>Northeast</td>\n",
       "      <td>279174.7900</td>\n",
       "      <td>Year</td>\n",
       "      <td>Y</td>\n",
       "      <td>19</td>\n",
       "    </tr>\n",
       "    <tr>\n",
       "      <th>25477</th>\n",
       "      <td>Asia</td>\n",
       "      <td>Master's</td>\n",
       "      <td>Y</td>\n",
       "      <td>N</td>\n",
       "      <td>1121</td>\n",
       "      <td>South</td>\n",
       "      <td>146298.8500</td>\n",
       "      <td>Year</td>\n",
       "      <td>N</td>\n",
       "      <td>115</td>\n",
       "    </tr>\n",
       "    <tr>\n",
       "      <th>25478</th>\n",
       "      <td>Asia</td>\n",
       "      <td>Master's</td>\n",
       "      <td>Y</td>\n",
       "      <td>Y</td>\n",
       "      <td>1918</td>\n",
       "      <td>West</td>\n",
       "      <td>86154.7700</td>\n",
       "      <td>Year</td>\n",
       "      <td>Y</td>\n",
       "      <td>138</td>\n",
       "    </tr>\n",
       "    <tr>\n",
       "      <th>25479</th>\n",
       "      <td>Asia</td>\n",
       "      <td>Bachelor's</td>\n",
       "      <td>Y</td>\n",
       "      <td>N</td>\n",
       "      <td>3195</td>\n",
       "      <td>Midwest</td>\n",
       "      <td>70876.9100</td>\n",
       "      <td>Year</td>\n",
       "      <td>Y</td>\n",
       "      <td>65</td>\n",
       "    </tr>\n",
       "  </tbody>\n",
       "</table>\n",
       "<p>25480 rows × 10 columns</p>\n",
       "</div>"
      ],
      "text/plain": [
       "      continent education_of_employee has_job_experience  \\\n",
       "0          Asia           High School                  N   \n",
       "1          Asia              Master's                  Y   \n",
       "2          Asia            Bachelor's                  N   \n",
       "3          Asia            Bachelor's                  N   \n",
       "4        Africa              Master's                  Y   \n",
       "...         ...                   ...                ...   \n",
       "25475      Asia            Bachelor's                  Y   \n",
       "25476      Asia           High School                  Y   \n",
       "25477      Asia              Master's                  Y   \n",
       "25478      Asia              Master's                  Y   \n",
       "25479      Asia            Bachelor's                  Y   \n",
       "\n",
       "      requires_job_training  no_of_employees region_of_employment  \\\n",
       "0                         N            14513                 West   \n",
       "1                         N             2412            Northeast   \n",
       "2                         Y            44444                 West   \n",
       "3                         N               98                 West   \n",
       "4                         N             1082                South   \n",
       "...                     ...              ...                  ...   \n",
       "25475                     Y             2601                South   \n",
       "25476                     N             3274            Northeast   \n",
       "25477                     N             1121                South   \n",
       "25478                     Y             1918                 West   \n",
       "25479                     N             3195              Midwest   \n",
       "\n",
       "       prevailing_wage unit_of_wage full_time_position  company_age  \n",
       "0             592.2029         Hour                  Y           18  \n",
       "1           83425.6500         Year                  Y           23  \n",
       "2          122996.8600         Year                  Y           17  \n",
       "3           83434.0300         Year                  Y          128  \n",
       "4          149907.3900         Year                  Y           20  \n",
       "...                ...          ...                ...          ...  \n",
       "25475       77092.5700         Year                  Y           17  \n",
       "25476      279174.7900         Year                  Y           19  \n",
       "25477      146298.8500         Year                  N          115  \n",
       "25478       86154.7700         Year                  Y          138  \n",
       "25479       70876.9100         Year                  Y           65  \n",
       "\n",
       "[25480 rows x 10 columns]"
      ]
     },
     "execution_count": 29,
     "metadata": {},
     "output_type": "execute_result"
    }
   ],
   "source": [
    "X"
   ]
  },
  {
   "cell_type": "markdown",
   "id": "ae3ff546",
   "metadata": {},
   "source": [
    "# Feature Transformation"
   ]
  },
  {
   "cell_type": "code",
   "execution_count": 30,
   "id": "394646e8",
   "metadata": {},
   "outputs": [
    {
     "data": {
      "image/png": "[encoded data removed]",
      "text/plain": [
       "<Figure size 1200x600 with 3 Axes>"
      ]
     },
     "metadata": {},
     "output_type": "display_data"
    }
   ],
   "source": [
    "plt.figure(figsize=(12,6))\n",
    "for i, col in enumerate(['no_of_employees','prevailing_wage','company_age']):\n",
    "    plt.subplot(2,2,i+1)\n",
    "    sns.histplot(x=X[col],color='indianred')\n",
    "    plt.xlabel(col)\n",
    "    plt.tight_layout()"
   ]
  },
  {
   "cell_type": "markdown",
   "id": "f3d31e40",
   "metadata": {},
   "source": [
    "* Çalışan sayısı ve Şirket yaşı sütunları çarpık (skewed)\n",
    "* Verileri daha Gaussian benzeri hale getirmek için her bir özelliğe güç dönüşümü (power transform) uygulayın.\n",
    "* Güç dönüşümleri, verileri daha Gaussian benzeri hale getirmek için uygulanan parametreli, monotonik dönüşümlerin bir ailesidir. Bu, heteroskedastisite (sabit olmayan varyans) ile ilgili modelleme sorunları veya normal dağılımın arzu edildiği diğer durumlar için faydalıdır.\n",
    "\n",
    "* Şu anda, PowerTransformer Box-Cox dönüşümünü ve Yeo-Johnson dönüşümünü desteklemektedir.\n",
    "\n",
    "* Çarpıklığı (Skewness) Kontrol Etme\n",
    "\n",
    "* Çarpıklık Nedir?\n",
    "\n",
    "* Çarpıklık, bir veri setindeki simetrik çan eğrisinden veya normal dağılımdan sapmayı veya bozulmayı ifade eder. Eğri sağa veya sola kayarsa, bu çarpık (skewed) olarak tanımlanır. * Çarpıklık, verilen bir dağılımın normal dağılımdan ne kadar saptığını nicelendirmenin bir yolu olarak ölçülebilir. Normal dağılımın çarpıklığı sıfırdır.\n",
    "\n",
    "\n",
    "\n",
    "* Box-Cox: Sadece pozitif veriler için uygundur ve verileri daha normal dağılıma dönüştürmek için kullanılır.\n",
    "* Yeo-Johnson: Hem pozitif hem de negatif verilerle çalışabilir, bu nedenle daha genel bir çözüm sunar.\n",
    "* PowerTransformer: Box-Cox ve Yeo-Johnson dönüşümlerini sağlayan bir sınıftır ve verilerin daha normal hale getirilmesi için kullanılır."
   ]
  },
  {
   "cell_type": "code",
   "execution_count": 31,
   "id": "a529bfd6",
   "metadata": {},
   "outputs": [
    {
     "data": {
      "text/plain": [
       "no_of_employees    12.265260\n",
       "prevailing_wage     0.755776\n",
       "company_age         2.037301\n",
       "dtype: float64"
      ]
     },
     "execution_count": 31,
     "metadata": {},
     "output_type": "execute_result"
    }
   ],
   "source": [
    "# Çarpıklığı hesaplamak \n",
    "# Skewness > 0 → Pozitif çarpıklık, yani dağılım sağa doğru kaymış.\n",
    "# Skewness < 0 → Negatif çarpıklık, yani dağılım sola doğru kaymış.\n",
    "# Skewness = 0 → Simetrik bir dağılım, yani normal dağılıma yakın.\n",
    "X[continuous_features].skew(axis=0, skipna=True)"
   ]
  },
  {
   "cell_type": "markdown",
   "id": "63b5874a",
   "metadata": {},
   "source": [
    "* Pozitif Çarpıklık Gösterenler: company_age, no_of_employees.\n",
    "* Outlier’ları (aykırı değerleri) ele alabiliriz ve ardından çarpıklığı kontrol edebiliriz.\n",
    "\n",
    "## Power Transformer Uygulaması ile Aykırı Değerlerin Azaltılması"
   ]
  },
  {
   "cell_type": "code",
   "execution_count": 32,
   "id": "cf03c778",
   "metadata": {},
   "outputs": [],
   "source": [
    "from sklearn.preprocessing import PowerTransformer\n",
    "pt = PowerTransformer(method='yeo-johnson')\n",
    "transform_features = ['company_age','no_of_employees']\n",
    "X_copy = pt.fit_transform(X[transform_features])"
   ]
  },
  {
   "cell_type": "code",
   "execution_count": 33,
   "id": "9d00a6b6",
   "metadata": {},
   "outputs": [],
   "source": [
    "X_copy = pd.DataFrame(X_copy,columns=transform_features)"
   ]
  },
  {
   "cell_type": "code",
   "execution_count": 34,
   "id": "d9f1c9b0",
   "metadata": {},
   "outputs": [
    {
     "data": {
      "text/html": [
       "<div>\n",
       "<style scoped>\n",
       "    .dataframe tbody tr th:only-of-type {\n",
       "        vertical-align: middle;\n",
       "    }\n",
       "\n",
       "    .dataframe tbody tr th {\n",
       "        vertical-align: top;\n",
       "    }\n",
       "\n",
       "    .dataframe thead th {\n",
       "        text-align: right;\n",
       "    }\n",
       "</style>\n",
       "<table border=\"1\" class=\"dataframe\">\n",
       "  <thead>\n",
       "    <tr style=\"text-align: right;\">\n",
       "      <th></th>\n",
       "      <th>company_age</th>\n",
       "      <th>no_of_employees</th>\n",
       "    </tr>\n",
       "  </thead>\n",
       "  <tbody>\n",
       "    <tr>\n",
       "      <th>0</th>\n",
       "      <td>-0.955551</td>\n",
       "      <td>1.517300</td>\n",
       "    </tr>\n",
       "    <tr>\n",
       "      <th>1</th>\n",
       "      <td>-0.467001</td>\n",
       "      <td>0.030912</td>\n",
       "    </tr>\n",
       "    <tr>\n",
       "      <th>2</th>\n",
       "      <td>-1.078363</td>\n",
       "      <td>2.885076</td>\n",
       "    </tr>\n",
       "    <tr>\n",
       "      <th>3</th>\n",
       "      <td>1.630914</td>\n",
       "      <td>-1.343550</td>\n",
       "    </tr>\n",
       "    <tr>\n",
       "      <th>4</th>\n",
       "      <td>-0.738126</td>\n",
       "      <td>-0.432287</td>\n",
       "    </tr>\n",
       "    <tr>\n",
       "      <th>...</th>\n",
       "      <td>...</td>\n",
       "      <td>...</td>\n",
       "    </tr>\n",
       "    <tr>\n",
       "      <th>25475</th>\n",
       "      <td>-1.078363</td>\n",
       "      <td>0.079917</td>\n",
       "    </tr>\n",
       "    <tr>\n",
       "      <th>25476</th>\n",
       "      <td>-0.842544</td>\n",
       "      <td>0.235747</td>\n",
       "    </tr>\n",
       "    <tr>\n",
       "      <th>25477</th>\n",
       "      <td>1.550209</td>\n",
       "      <td>-0.413885</td>\n",
       "    </tr>\n",
       "    <tr>\n",
       "      <th>25478</th>\n",
       "      <td>1.684739</td>\n",
       "      <td>-0.111949</td>\n",
       "    </tr>\n",
       "    <tr>\n",
       "      <th>25479</th>\n",
       "      <td>1.027638</td>\n",
       "      <td>0.218742</td>\n",
       "    </tr>\n",
       "  </tbody>\n",
       "</table>\n",
       "<p>25480 rows × 2 columns</p>\n",
       "</div>"
      ],
      "text/plain": [
       "       company_age  no_of_employees\n",
       "0        -0.955551         1.517300\n",
       "1        -0.467001         0.030912\n",
       "2        -1.078363         2.885076\n",
       "3         1.630914        -1.343550\n",
       "4        -0.738126        -0.432287\n",
       "...            ...              ...\n",
       "25475    -1.078363         0.079917\n",
       "25476    -0.842544         0.235747\n",
       "25477     1.550209        -0.413885\n",
       "25478     1.684739        -0.111949\n",
       "25479     1.027638         0.218742\n",
       "\n",
       "[25480 rows x 2 columns]"
      ]
     },
     "execution_count": 34,
     "metadata": {},
     "output_type": "execute_result"
    }
   ],
   "source": [
    "X_copy"
   ]
  },
  {
   "cell_type": "code",
   "execution_count": 35,
   "id": "0c079dad",
   "metadata": {},
   "outputs": [
    {
     "data": {
      "text/plain": [
       "company_age        0.112260\n",
       "no_of_employees    0.399339\n",
       "dtype: float64"
      ]
     },
     "execution_count": 35,
     "metadata": {},
     "output_type": "execute_result"
    }
   ],
   "source": [
    "X_copy.skew(axis=0,skipna=True)"
   ]
  },
  {
   "cell_type": "code",
   "execution_count": 37,
   "id": "9b20cd08",
   "metadata": {},
   "outputs": [
    {
     "data": {
      "image/png": "[encoded data removed]",
      "text/plain": [
       "<Figure size 1200x600 with 2 Axes>"
      ]
     },
     "metadata": {},
     "output_type": "display_data"
    }
   ],
   "source": [
    "plt.figure(figsize=(12,6))\n",
    "for i, col in enumerate(['no_of_employees','company_age']):\n",
    "    plt.subplot(2,2,i+1)\n",
    "    sns.histplot(x=X_copy[col],color='indianred')\n",
    "    plt.xlabel(col)\n",
    "    plt.tight_layout()"
   ]
  },
  {
   "cell_type": "markdown",
   "id": "5073fbeb",
   "metadata": {},
   "source": [
    "Burada Yeo-Johnson yöntemi kullanılmıştır ve bu yöntem dönüşüm için hem pozitif hem de negatif veriyi destekler. Bu nedenle Yeo-Johnson ile Power Transformer kullanılabilir."
   ]
  },
  {
   "cell_type": "code",
   "execution_count": 27,
   "id": "b571aa52",
   "metadata": {},
   "outputs": [
    {
     "name": "stdout",
     "output_type": "stream",
     "text": [
      "continent : 6\n",
      "education_of_employee : 4\n",
      "has_job_experience : 2\n",
      "requires_job_training : 2\n",
      "region_of_employment : 5\n",
      "unit_of_wage : 4\n",
      "full_time_position : 2\n",
      "case_status : 2\n"
     ]
    }
   ],
   "source": [
    "for feature in cat_features:\n",
    "    print(feature,':', df[feature].nunique())"
   ]
  },
  {
   "cell_type": "markdown",
   "id": "3ecbefd8",
   "metadata": {},
   "source": [
    "### Özellik Kodlama ve Ölçekleme\n",
    "* Az sayıda benzersiz değeri olan ve sıralı olmayan sütunlar için One Hot Encoding\n",
    "\n",
    "* One hot encoding, kategorik değişkenlerin, makine öğrenmesi algoritmalarına daha iyi tahmin yapabilmesi için uygun bir formata dönüştürülmesidir.\n",
    "* Çok sayıda benzersiz kategoriye sahip sütunlar için Ordinal Encoding\n",
    "\n",
    "* Ordinal encoding burada, label encoder’ın sütun dönüştürücü (column transformer) tarafından desteklenmesi için kullanılmaktadır.\n",
    "* Ordinal encoding, sıralı değişkenler için kullanılır. Bu değişken, değerler arasında sıralı bir düzeni olan sonlu bir dizi ayrık değere sahiptir.\n",
    "### Standart Ölçekleyici\n",
    "\n",
    "* Özellikleri, ortalamayı çıkararak ve birim varyansa ölçekleyerek standartlaştırır.\n",
    "###  Power Transformer\n",
    "\n",
    "* Power transform, sayısal giriş veya çıkış değişkenlerini Gauss dağılımı veya daha Gauss’a yakın bir olasılık dağılımına dönüştürmek için kullanılan bir tekniktir.\n",
    "Önişleme için özelliklerin seçilmesi"
   ]
  },
  {
   "cell_type": "markdown",
   "id": "fc8ebf30",
   "metadata": {},
   "source": [
    "## Preprocessing using Column Transformer"
   ]
  },
  {
   "cell_type": "code",
   "execution_count": 38,
   "id": "fff695d0",
   "metadata": {},
   "outputs": [],
   "source": [
    "from sklearn.preprocessing import OneHotEncoder, OrdinalEncoder, StandardScaler, PowerTransformer\n",
    "from sklearn.compose import ColumnTransformer\n",
    "from sklearn.pipeline import Pipeline\n",
    "\n",
    "or_columns = ['has_job_experience','requires_job_training','full_time_position','education_of_employee']\n",
    "oh_columns = ['continent','unit_of_wage','region_of_employment']\n",
    "transform_columns= ['no_of_employees','company_age']\n",
    "\n",
    "# Dönüştürme adımları (Numeric, OneHot, Ordinal)\n",
    "numeric_transformer = StandardScaler()  # Sayısal sütunlar için standartlaştırma\n",
    "oh_transformer = OneHotEncoder()        # Kategorik sütunlar için One-Hot Encoding\n",
    "ordinal_encoder = OrdinalEncoder()      # Sıralı kategorik sütunlar için Ordinal Encoding\n",
    "\n",
    "# Power Transformer için bir pipeline oluşturuluyor\n",
    "transform_pipe = Pipeline(steps=[\n",
    "    ('transformer', PowerTransformer(method='yeo-johnson'))  # Yeo-Johnson dönüşümü\n",
    "])\n",
    "\n",
    "# ColumnTransformer: Sütunlara göre dönüşüm işlemleri\n",
    "preprocessor = ColumnTransformer(\n",
    "    transformers=[\n",
    "        (\"OneHotEncoder\", oh_transformer, oh_columns),  # One-Hot Encoding\n",
    "        (\"Ordinal_Encoder\", ordinal_encoder, or_columns),  # Ordinal Encoding\n",
    "        (\"Transformer\", transform_pipe, transform_columns),  # Power Transformation\n",
    "        (\"StandardScaler\", numeric_transformer, num_features)  # Sayısal özellikler için scaling\n",
    "    ]\n",
    ")\n"
   ]
  },
  {
   "cell_type": "code",
   "execution_count": 39,
   "id": "74f4d623",
   "metadata": {},
   "outputs": [],
   "source": [
    "X = preprocessor.fit_transform(X)"
   ]
  },
  {
   "cell_type": "code",
   "execution_count": 40,
   "id": "1a296419",
   "metadata": {},
   "outputs": [
    {
     "data": {
      "text/plain": [
       "array([[ 0.        ,  1.        ,  0.        , ...,  0.38666657,\n",
       "        -1.39853722, -0.65122993],\n",
       "       [ 0.        ,  1.        ,  0.        , ..., -0.14228155,\n",
       "         0.1698353 , -0.53321103],\n",
       "       [ 0.        ,  1.        ,  0.        , ...,  1.69498375,\n",
       "         0.91907852, -0.6748337 ],\n",
       "       ...,\n",
       "       [ 0.        ,  1.        ,  0.        , ..., -0.19871259,\n",
       "         1.36027953,  1.63833662],\n",
       "       [ 0.        ,  1.        ,  0.        , ..., -0.16387483,\n",
       "         0.22150859,  2.18122353],\n",
       "       [ 0.        ,  1.        ,  0.        , ..., -0.10805575,\n",
       "        -0.06776315,  0.45814768]])"
      ]
     },
     "execution_count": 40,
     "metadata": {},
     "output_type": "execute_result"
    }
   ],
   "source": [
    "X"
   ]
  },
  {
   "cell_type": "markdown",
   "id": "90d43fac",
   "metadata": {},
   "source": [
    "## Classification"
   ]
  },
  {
   "cell_type": "code",
   "execution_count": 41,
   "id": "8543f896",
   "metadata": {},
   "outputs": [],
   "source": [
    "# Gerekli kütüphaneleri import ediyoruz\n",
    "from imblearn.combine import SMOTEENN\n",
    "\n",
    "# Azınlık sınıfını yeniden örneklemek için SMOTEENN modelini oluşturuyoruz.\n",
    "# SMOTEENN, SMOTE (azınlık sınıfını çoğaltma) ve ENN (yakın komşu düzenleme) yöntemlerini birleştirir.\n",
    "smt = SMOTEENN(random_state=42, sampling_strategy='minority')\n",
    "\n",
    "# X ve y ile fit_resample fonksiyonu ile modeli veri setimize uyguluyoruz.\n",
    "# Bu işlem, azınlık sınıfının örneklerini çoğaltarak sınıf dengesizliğini düzeltecektir.\n",
    "X_res, y_res = smt.fit_resample(X, y)\n",
    "\n",
    "# Yeniden örneklenmiş veriyi X_res ve y_res olarak alıyoruz."
   ]
  },
  {
   "cell_type": "markdown",
   "id": "62ccc84a",
   "metadata": {},
   "source": [
    "# Eğitim-Test Ayrımı (Train-Test Split)\n",
    "* Eğitim-test ayrımı prosedürü, makine öğrenimi algoritmalarının, modelin eğitiminde kullanılmayan verilerle tahminler yapıldığında ne kadar iyi performans gösterdiğini tahmin etmek için kullanılır.\n",
    "\n",
    "* Bu, hızlı ve kolay bir şekilde gerçekleştirilebilen bir prosedürdür ve sonuçları, makine öğrenimi algoritmalarının performansını karşılaştırmanıza olanak tanır."
   ]
  },
  {
   "cell_type": "code",
   "execution_count": 42,
   "id": "7a325bd4",
   "metadata": {},
   "outputs": [
    {
     "data": {
      "text/plain": [
       "((13629, 24), (3408, 24))"
      ]
     },
     "execution_count": 42,
     "metadata": {},
     "output_type": "execute_result"
    }
   ],
   "source": [
    "from sklearn.model_selection import  train_test_split\n",
    "# separate dataset into train and test\n",
    "X_train, X_test, y_train, y_test = train_test_split(X_res,y_res,test_size=0.2,random_state=42)\n",
    "X_train.shape, X_test.shape\n"
   ]
  },
  {
   "cell_type": "code",
   "execution_count": 43,
   "id": "7e97e24e",
   "metadata": {},
   "outputs": [],
   "source": [
    "\n",
    "from sklearn.ensemble import RandomForestClassifier, AdaBoostClassifier, GradientBoostingClassifier\n",
    "from sklearn.linear_model import LogisticRegression\n",
    "from sklearn.neighbors import KNeighborsClassifier\n",
    "from sklearn.tree import DecisionTreeClassifier\n",
    "from sklearn.svm import SVC\n",
    "from sklearn.metrics import accuracy_score, classification_report,ConfusionMatrixDisplay, \\\n",
    "                            precision_score, recall_score, f1_score, roc_auc_score,roc_curve \n",
    "from xgboost import XGBClassifier\n",
    "from catboost import CatBoostClassifier"
   ]
  },
  {
   "cell_type": "code",
   "execution_count": 44,
   "id": "daef7fac",
   "metadata": {},
   "outputs": [],
   "source": [
    "from sklearn.metrics import accuracy_score, f1_score, precision_score, recall_score, roc_auc_score\n",
    "\n",
    "def evaluate_clf(true, predicted):\n",
    "    \"\"\"\n",
    "    true: Gerçek etiketler (sınıf etiketleri)\n",
    "        - Modelin tahminlerini değerlendirmek için kullanılan gerçek değerler (etiketler).\n",
    "        \n",
    "    predicted: Model tarafından tahmin edilen etiketler\n",
    "        - Modelin çıktısı, yani tahmin edilen sınıf etiketleri.\n",
    "    \"\"\"\n",
    "    acc = accuracy_score(true, predicted)  # Doğruluk (Accuracy)\n",
    "    # Doğruluk, doğru tahminlerin toplam tahminlere oranıdır. Modelin genel başarısını ölçer.\n",
    "    \n",
    "    f1 = f1_score(true, predicted)  # F1-Skoru (F1-score)\n",
    "    # F1-skoru, Precision ve Recall'un harmonik ortalamasıdır. Sınıf dengesizliğinin olduğu durumlarda önemli bir metriktir.\n",
    "    \n",
    "    precision = precision_score(true, predicted)  # Kesinlik (Precision)\n",
    "    # Kesinlik, doğru pozitif tahminlerin tüm pozitif tahminlere oranıdır. Modelin ne kadar doğru tahmin yaptığını gösterir.\n",
    "    \n",
    "    recall = recall_score(true, predicted)  # Duyarlılık (Recall)\n",
    "    # Duyarlılık, doğru pozitif tahminlerin tüm gerçek pozitiflere oranıdır. Modelin tüm gerçek pozitif örnekleri tespit etme yeteneğini gösterir.\n",
    "    \n",
    "    roc_auc = roc_auc_score(true, predicted)  # ROC-AUC (Receiver Operating Characteristic - Area Under Curve)\n",
    "    # ROC-AUC, modelin sınıfları ayırt etme yeteneğini ölçer. AUC değeri 1'e yaklaştıkça modelin performansı iyidir.\n",
    "    \n",
    "    return acc, f1 , precision, recall, roc_auc"
   ]
  },
  {
   "cell_type": "code",
   "execution_count": 45,
   "id": "bf91adb8",
   "metadata": {},
   "outputs": [],
   "source": [
    "models = {\n",
    "    \"Random Forest\": RandomForestClassifier(),\n",
    "    \"Decision Tree\": DecisionTreeClassifier(),\n",
    "    \"Gradient Boosting\": GradientBoostingClassifier(),\n",
    "    \"Logistic Regression\": LogisticRegression(),\n",
    "     \"K-Neighbors Classifier\": KNeighborsClassifier(),\n",
    "    \"XGBClassifier\": XGBClassifier(), \n",
    "     \"CatBoosting Classifier\": CatBoostClassifier(verbose=False),\n",
    "     \"Support Vector Classifier\": SVC(),\n",
    "    \"AdaBoost Classifier\": AdaBoostClassifier()\n",
    "\n",
    "}"
   ]
  },
  {
   "cell_type": "code",
   "execution_count": 46,
   "id": "b1f18dc6",
   "metadata": {},
   "outputs": [],
   "source": [
    "from sklearn.model_selection import train_test_split\n",
    "import pandas as pd\n",
    "\n",
    "def evaluate_models(X, y, models):\n",
    "    '''\n",
    "    Bu fonksiyon, X ve y'yi alır ve model sözlüğünü değerlendirir.\n",
    "    - Veriyi eğitim ve test olarak böler.\n",
    "    - Verilen model sözlüğü üzerinden döngüyle geçer ve her model için değerlendirme metriklerini hesaplar.\n",
    "    - Sonuç olarak tüm modellerin metriklerinin yer aldığı bir rapor döner.\n",
    "\n",
    "    Parametreler:\n",
    "    X (DataFrame): Özelliklerin yer aldığı veri seti.\n",
    "    y (Series): Hedef değişkenin yer aldığı veri seti.\n",
    "    models (dict): Anahtar-değer şeklinde model isimleri ve modellerin bulunduğu bir sözlük.\n",
    "\n",
    "    Dönüş:\n",
    "    report (DataFrame): Modellerin doğruluk ve diğer metrikleri içeren bir rapor.\n",
    "    '''\n",
    "    # Veriyi eğitim ve test olarak böler\n",
    "    X_train, X_test, y_train, y_test = train_test_split(X, y, test_size=0.2, random_state=42)\n",
    "    \n",
    "    # Model performansını depolayacak listeler\n",
    "    models_list = []    # Model isimleri\n",
    "    accuracy_list = []  # Test seti doğruluk değerleri\n",
    "    auc = []            # ROC-AUC skorları\n",
    "    \n",
    "    # Modeller üzerinde döngü başlatıyoruz\n",
    "    for i in range(len(list(models))):\n",
    "        model = list(models.values())[i]\n",
    "        model.fit(X_train, y_train)  # Modeli eğitim verisi ile eğit\n",
    "\n",
    "        # Eğitim verisi üzerinde tahminler yapıyoruz\n",
    "        y_train_pred = model.predict(X_train)\n",
    "        y_test_pred = model.predict(X_test)\n",
    "\n",
    "        # Eğitim seti performansı\n",
    "        model_train_accuracy, model_train_f1, model_train_precision,\\\n",
    "        model_train_recall, model_train_rocauc_score = evaluate_clf(y_train, y_train_pred)\n",
    "\n",
    "        # Test seti performansı\n",
    "        model_test_accuracy, model_test_f1, model_test_precision,\\\n",
    "        model_test_recall, model_test_rocauc_score = evaluate_clf(y_test, y_test_pred)\n",
    "\n",
    "        # Model adı\n",
    "        print(list(models.keys())[i])\n",
    "        models_list.append(list(models.keys())[i])\n",
    "\n",
    "        print('Eğitim seti için model performansı')\n",
    "        print(\"- Doğruluk (Accuracy): {:.4f}\".format(model_train_accuracy))\n",
    "        print('- F1 Skoru: {:.4f}'.format(model_train_f1)) \n",
    "        print('- Kesinlik (Precision): {:.4f}'.format(model_train_precision))\n",
    "        print('- Duyarlılık (Recall): {:.4f}'.format(model_train_recall))\n",
    "        print('- ROC AUC Skoru: {:.4f}'.format(model_train_rocauc_score))\n",
    "\n",
    "        print('----------------------------------')\n",
    "\n",
    "        print('Test seti için model performansı')\n",
    "        print('- Doğruluk (Accuracy): {:.4f}'.format(model_test_accuracy))\n",
    "        accuracy_list.append(model_test_accuracy)  # Test seti doğruluğunu listeye ekle\n",
    "        print('- F1 Skoru: {:.4f}'.format(model_test_f1))\n",
    "        print('- Kesinlik (Precision): {:.4f}'.format(model_test_precision))\n",
    "        print('- Duyarlılık (Recall): {:.4f}'.format(model_test_recall))\n",
    "        print('- ROC AUC Skoru: {:.4f}'.format(model_test_rocauc_score))\n",
    "        auc.append(model_test_rocauc_score)  # Test seti ROC-AUC skorunu listeye ekle\n",
    "        print('='*35)\n",
    "        print('\\n')\n",
    "    \n",
    "    # Modellerin isimlerini ve doğruluklarını içeren bir rapor oluştur\n",
    "    report = pd.DataFrame(list(zip(models_list, accuracy_list)), columns=['Model Adı', 'Doğruluk (Accuracy)'])\\\n",
    "        .sort_values(by=['Doğruluk (Accuracy)'], ascending=False)  # Doğruluğa göre sıralama\n",
    "\n",
    "    return report"
   ]
  },
  {
   "cell_type": "markdown",
   "id": "996ca79d",
   "metadata": {},
   "source": [
    "# MODEL TRAİNİNG"
   ]
  },
  {
   "cell_type": "code",
   "execution_count": 47,
   "id": "202228a2",
   "metadata": {},
   "outputs": [
    {
     "name": "stdout",
     "output_type": "stream",
     "text": [
      "Random Forest\n",
      "Eğitim seti için model performansı\n",
      "- Doğruluk (Accuracy): 1.0000\n",
      "- F1 Skoru: 1.0000\n",
      "- Kesinlik (Precision): 1.0000\n",
      "- Duyarlılık (Recall): 1.0000\n",
      "- ROC AUC Skoru: 1.0000\n",
      "----------------------------------\n",
      "Test seti için model performansı\n",
      "- Doğruluk (Accuracy): 0.9516\n",
      "- F1 Skoru: 0.9555\n",
      "- Kesinlik (Precision): 0.9481\n",
      "- Duyarlılık (Recall): 0.9630\n",
      "- ROC AUC Skoru: 0.9506\n",
      "===================================\n",
      "\n",
      "\n",
      "Decision Tree\n",
      "Eğitim seti için model performansı\n",
      "- Doğruluk (Accuracy): 1.0000\n",
      "- F1 Skoru: 1.0000\n",
      "- Kesinlik (Precision): 1.0000\n",
      "- Duyarlılık (Recall): 1.0000\n",
      "- ROC AUC Skoru: 1.0000\n",
      "----------------------------------\n",
      "Test seti için model performansı\n",
      "- Doğruluk (Accuracy): 0.9252\n",
      "- F1 Skoru: 0.9312\n",
      "- Kesinlik (Precision): 0.9249\n",
      "- Duyarlılık (Recall): 0.9375\n",
      "- ROC AUC Skoru: 0.9241\n",
      "===================================\n",
      "\n",
      "\n",
      "Gradient Boosting\n",
      "Eğitim seti için model performansı\n",
      "- Doğruluk (Accuracy): 0.8897\n",
      "- F1 Skoru: 0.8965\n",
      "- Kesinlik (Precision): 0.9068\n",
      "- Duyarlılık (Recall): 0.8865\n",
      "- ROC AUC Skoru: 0.8900\n",
      "----------------------------------\n",
      "Test seti için model performansı\n",
      "- Doğruluk (Accuracy): 0.8791\n",
      "- F1 Skoru: 0.8875\n",
      "- Kesinlik (Precision): 0.8919\n",
      "- Duyarlılık (Recall): 0.8832\n",
      "- ROC AUC Skoru: 0.8788\n",
      "===================================\n",
      "\n",
      "\n",
      "Logistic Regression\n",
      "Eğitim seti için model performansı\n",
      "- Doğruluk (Accuracy): 0.7382\n",
      "- F1 Skoru: 0.7523\n",
      "- Kesinlik (Precision): 0.7677\n",
      "- Duyarlılık (Recall): 0.7374\n",
      "- ROC AUC Skoru: 0.7383\n",
      "----------------------------------\n",
      "Test seti için model performansı\n",
      "- Doğruluk (Accuracy): 0.7256\n",
      "- F1 Skoru: 0.7411\n",
      "- Kesinlik (Precision): 0.7555\n",
      "- Duyarlılık (Recall): 0.7272\n",
      "- ROC AUC Skoru: 0.7255\n",
      "===================================\n",
      "\n",
      "\n",
      "K-Neighbors Classifier\n",
      "Eğitim seti için model performansı\n",
      "- Doğruluk (Accuracy): 0.9655\n",
      "- F1 Skoru: 0.9684\n",
      "- Kesinlik (Precision): 0.9574\n",
      "- Duyarlılık (Recall): 0.9796\n",
      "- ROC AUC Skoru: 0.9643\n",
      "----------------------------------\n",
      "Test seti için model performansı\n",
      "- Doğruluk (Accuracy): 0.9416\n",
      "- F1 Skoru: 0.9467\n",
      "- Kesinlik (Precision): 0.9339\n",
      "- Duyarlılık (Recall): 0.9598\n",
      "- ROC AUC Skoru: 0.9400\n",
      "===================================\n",
      "\n",
      "\n",
      "XGBClassifier\n",
      "Eğitim seti için model performansı\n",
      "- Doğruluk (Accuracy): 0.9794\n",
      "- F1 Skoru: 0.9809\n",
      "- Kesinlik (Precision): 0.9802\n",
      "- Duyarlılık (Recall): 0.9816\n",
      "- ROC AUC Skoru: 0.9792\n",
      "----------------------------------\n",
      "Test seti için model performansı\n",
      "- Doğruluk (Accuracy): 0.9352\n",
      "- F1 Skoru: 0.9397\n",
      "- Kesinlik (Precision): 0.9431\n",
      "- Duyarlılık (Recall): 0.9364\n",
      "- ROC AUC Skoru: 0.9350\n",
      "===================================\n",
      "\n",
      "\n",
      "CatBoosting Classifier\n",
      "Eğitim seti için model performansı\n",
      "- Doğruluk (Accuracy): 0.9541\n",
      "- F1 Skoru: 0.9571\n",
      "- Kesinlik (Precision): 0.9627\n",
      "- Duyarlılık (Recall): 0.9517\n",
      "- ROC AUC Skoru: 0.9543\n",
      "----------------------------------\n",
      "Test seti için model performansı\n",
      "- Doğruluk (Accuracy): 0.9281\n",
      "- F1 Skoru: 0.9327\n",
      "- Kesinlik (Precision): 0.9423\n",
      "- Duyarlılık (Recall): 0.9234\n",
      "- ROC AUC Skoru: 0.9285\n",
      "===================================\n",
      "\n",
      "\n",
      "Support Vector Classifier\n",
      "Eğitim seti için model performansı\n",
      "- Doğruluk (Accuracy): 0.8740\n",
      "- F1 Skoru: 0.8825\n",
      "- Kesinlik (Precision): 0.8871\n",
      "- Duyarlılık (Recall): 0.8780\n",
      "- ROC AUC Skoru: 0.8737\n",
      "----------------------------------\n",
      "Test seti için model performansı\n",
      "- Doğruluk (Accuracy): 0.8571\n",
      "- F1 Skoru: 0.8678\n",
      "- Kesinlik (Precision): 0.8671\n",
      "- Duyarlılık (Recall): 0.8685\n",
      "- ROC AUC Skoru: 0.8561\n",
      "===================================\n",
      "\n",
      "\n",
      "AdaBoost Classifier\n",
      "Eğitim seti için model performansı\n",
      "- Doğruluk (Accuracy): 0.8538\n",
      "- F1 Skoru: 0.8644\n",
      "- Kesinlik (Precision): 0.8647\n",
      "- Duyarlılık (Recall): 0.8640\n",
      "- ROC AUC Skoru: 0.8530\n",
      "----------------------------------\n",
      "Test seti için model performansı\n",
      "- Doğruluk (Accuracy): 0.8492\n",
      "- F1 Skoru: 0.8609\n",
      "- Kesinlik (Precision): 0.8576\n",
      "- Duyarlılık (Recall): 0.8641\n",
      "- ROC AUC Skoru: 0.8479\n",
      "===================================\n",
      "\n",
      "\n"
     ]
    }
   ],
   "source": [
    "\n",
    "base_model_report =evaluate_models(X=X_res, y=y_res, models=models)"
   ]
  },
  {
   "cell_type": "code",
   "execution_count": 48,
   "id": "35001289",
   "metadata": {},
   "outputs": [
    {
     "data": {
      "text/html": [
       "<div>\n",
       "<style scoped>\n",
       "    .dataframe tbody tr th:only-of-type {\n",
       "        vertical-align: middle;\n",
       "    }\n",
       "\n",
       "    .dataframe tbody tr th {\n",
       "        vertical-align: top;\n",
       "    }\n",
       "\n",
       "    .dataframe thead th {\n",
       "        text-align: right;\n",
       "    }\n",
       "</style>\n",
       "<table border=\"1\" class=\"dataframe\">\n",
       "  <thead>\n",
       "    <tr style=\"text-align: right;\">\n",
       "      <th></th>\n",
       "      <th>Model Adı</th>\n",
       "      <th>Doğruluk (Accuracy)</th>\n",
       "    </tr>\n",
       "  </thead>\n",
       "  <tbody>\n",
       "    <tr>\n",
       "      <th>0</th>\n",
       "      <td>Random Forest</td>\n",
       "      <td>0.951585</td>\n",
       "    </tr>\n",
       "    <tr>\n",
       "      <th>4</th>\n",
       "      <td>K-Neighbors Classifier</td>\n",
       "      <td>0.941608</td>\n",
       "    </tr>\n",
       "    <tr>\n",
       "      <th>5</th>\n",
       "      <td>XGBClassifier</td>\n",
       "      <td>0.935153</td>\n",
       "    </tr>\n",
       "    <tr>\n",
       "      <th>6</th>\n",
       "      <td>CatBoosting Classifier</td>\n",
       "      <td>0.928110</td>\n",
       "    </tr>\n",
       "    <tr>\n",
       "      <th>1</th>\n",
       "      <td>Decision Tree</td>\n",
       "      <td>0.925176</td>\n",
       "    </tr>\n",
       "    <tr>\n",
       "      <th>2</th>\n",
       "      <td>Gradient Boosting</td>\n",
       "      <td>0.879108</td>\n",
       "    </tr>\n",
       "    <tr>\n",
       "      <th>7</th>\n",
       "      <td>Support Vector Classifier</td>\n",
       "      <td>0.857101</td>\n",
       "    </tr>\n",
       "    <tr>\n",
       "      <th>8</th>\n",
       "      <td>AdaBoost Classifier</td>\n",
       "      <td>0.849178</td>\n",
       "    </tr>\n",
       "    <tr>\n",
       "      <th>3</th>\n",
       "      <td>Logistic Regression</td>\n",
       "      <td>0.725646</td>\n",
       "    </tr>\n",
       "  </tbody>\n",
       "</table>\n",
       "</div>"
      ],
      "text/plain": [
       "                   Model Adı  Doğruluk (Accuracy)\n",
       "0              Random Forest             0.951585\n",
       "4     K-Neighbors Classifier             0.941608\n",
       "5              XGBClassifier             0.935153\n",
       "6     CatBoosting Classifier             0.928110\n",
       "1              Decision Tree             0.925176\n",
       "2          Gradient Boosting             0.879108\n",
       "7  Support Vector Classifier             0.857101\n",
       "8        AdaBoost Classifier             0.849178\n",
       "3        Logistic Regression             0.725646"
      ]
     },
     "execution_count": 48,
     "metadata": {},
     "output_type": "execute_result"
    }
   ],
   "source": [
    "base_model_report"
   ]
  },
  {
   "cell_type": "markdown",
   "id": "330420fe",
   "metadata": {},
   "source": [
    "* Burada Random Forest için Hiperparametre Ayarını (Hyperparameter Tuning) kullanabiliriz.\n",
    "\n",
    "* Random Forest için parametre dağılımını tanımlayın."
   ]
  },
  {
   "cell_type": "code",
   "execution_count": 49,
   "id": "7af3f822",
   "metadata": {},
   "outputs": [],
   "source": [
    "# XGBoost Hiperparametre Ayarları\n",
    "xgboost_params = {\n",
    "    'max_depth': range(3, 10, 2),          # 'max_depth': 3'ten 10'a kadar 2'şer artarak değerler\n",
    "    'min_child_weight': range(1, 6, 2)     # 'min_child_weight': 1'den 6'ya kadar 2'şer artarak değerler\n",
    "}\n",
    "\n",
    "# Random Forest Hiperparametre Ayarları\n",
    "rf_params = {\n",
    "    \"max_depth\": [10, 12, None, 15, 20],   # 'max_depth': Ağaç derinlikleri (None, sınırsız derinlik)\n",
    "    \"max_features\": ['sqrt', 'log2', None], # 'max_features': Her ağaçta kullanılacak özellik sayısı ('sqrt' ve 'log2' genelde iyi seçimlerdir)\n",
    "    \"n_estimators\": [10, 50, 100, 200]     # 'n_estimators': Kullanılacak ağaç sayısı\n",
    "}\n",
    "\n",
    "# KNN Hiperparametre Ayarları\n",
    "knn_params = {\n",
    "    \"algorithm\": ['auto', 'ball_tree', 'kd_tree', 'brute'],  # 'algorithm': KNN algoritması için kullanılacak metotlar\n",
    "    \"weights\": ['uniform', 'distance'],                      # 'weights': Komşulara verilecek ağırlık ('uniform' eşit, 'distance' uzaklığa göre)\n",
    "    \"n_neighbors\": [3, 4, 5, 7, 9]                           # 'n_neighbors': KNN için komşu sayısı\n",
    "}\n"
   ]
  },
  {
   "cell_type": "code",
   "execution_count": 50,
   "id": "0dfe4213",
   "metadata": {},
   "outputs": [],
   "source": [
    "# Hiperparametre tuning için kullanılacak modellerin listesi\n",
    "randomcv_models = [\n",
    "    ('XGBoost', XGBClassifier(), xgboost_params),  # XGBoost modelinin hiperparametreleri\n",
    "    (\"RF\", RandomForestClassifier(), rf_params),  # Random Forest modelinin hiperparametreleri\n",
    "    (\"KNN\", KNeighborsClassifier(), knn_params)   # KNN modelinin hiperparametreleri\n",
    "]"
   ]
  },
  {
   "cell_type": "code",
   "execution_count": 51,
   "id": "7fe6f9ae",
   "metadata": {},
   "outputs": [
    {
     "name": "stdout",
     "output_type": "stream",
     "text": [
      "Fitting 3 folds for each of 12 candidates, totalling 36 fits\n",
      "[CV] END ....................max_depth=3, min_child_weight=1; total time=   0.3s\n",
      "[CV] END ....................max_depth=3, min_child_weight=1; total time=   0.3s\n",
      "[CV] END ....................max_depth=3, min_child_weight=3; total time=   0.2s\n",
      "[CV] END ....................max_depth=3, min_child_weight=3; total time=   0.2s\n",
      "[CV] END ....................max_depth=3, min_child_weight=1; total time=   0.3s\n",
      "[CV] END ....................max_depth=3, min_child_weight=5; total time=   0.2s\n",
      "[CV] END ....................max_depth=3, min_child_weight=3; total time=   0.2s\n",
      "[CV] END ....................max_depth=3, min_child_weight=5; total time=   0.2s\n",
      "[CV] END ....................max_depth=3, min_child_weight=5; total time=   0.2s\n",
      "[CV] END ....................max_depth=5, min_child_weight=1; total time=   0.3s\n",
      "[CV] END ....................max_depth=5, min_child_weight=1; total time=   0.3s\n",
      "[CV] END ....................max_depth=5, min_child_weight=1; total time=   0.4s\n",
      "[CV] END ....................max_depth=5, min_child_weight=3; total time=   0.3s\n",
      "[CV] END ....................max_depth=5, min_child_weight=3; total time=   0.3s\n",
      "[CV] END ....................max_depth=5, min_child_weight=3; total time=   0.3s\n",
      "[CV] END ....................max_depth=5, min_child_weight=5; total time=   0.3s\n",
      "[CV] END ....................max_depth=5, min_child_weight=5; total time=   0.3s\n",
      "[CV] END ....................max_depth=5, min_child_weight=5; total time=   0.3s\n",
      "[CV] END ....................max_depth=7, min_child_weight=1; total time=   0.5s\n",
      "[CV] END ....................max_depth=7, min_child_weight=1; total time=   0.5s\n",
      "[CV] END ....................max_depth=7, min_child_weight=1; total time=   0.4s\n",
      "[CV] END ....................max_depth=7, min_child_weight=3; total time=   0.4s\n",
      "[CV] END ....................max_depth=7, min_child_weight=3; total time=   0.4s\n",
      "[CV] END ....................max_depth=7, min_child_weight=3; total time=   0.4s\n",
      "[CV] END ....................max_depth=7, min_child_weight=5; total time=   0.4s\n",
      "[CV] END ....................max_depth=7, min_child_weight=5; total time=   0.4s\n",
      "[CV] END ....................max_depth=7, min_child_weight=5; total time=   0.4s\n",
      "[CV] END ....................max_depth=9, min_child_weight=1; total time=   0.7s\n",
      "[CV] END ....................max_depth=9, min_child_weight=1; total time=   0.8s\n",
      "[CV] END ....................max_depth=9, min_child_weight=1; total time=   0.6s\n",
      "[CV] END ....................max_depth=9, min_child_weight=3; total time=   0.6s\n",
      "[CV] END ....................max_depth=9, min_child_weight=3; total time=   0.5s\n",
      "[CV] END ....................max_depth=9, min_child_weight=3; total time=   0.5s\n",
      "[CV] END ....................max_depth=9, min_child_weight=5; total time=   0.5s\n",
      "[CV] END ....................max_depth=9, min_child_weight=5; total time=   0.4s\n",
      "[CV] END ....................max_depth=9, min_child_weight=5; total time=   0.3s\n",
      "Fitting 3 folds for each of 60 candidates, totalling 180 fits\n",
      "[CV] END ...max_depth=10, max_features=sqrt, n_estimators=10; total time=   0.1s\n",
      "[CV] END ...max_depth=10, max_features=sqrt, n_estimators=10; total time=   0.1s\n",
      "[CV] END ...max_depth=10, max_features=sqrt, n_estimators=10; total time=   0.1s\n",
      "[CV] END ...max_depth=10, max_features=sqrt, n_estimators=50; total time=   0.8s\n",
      "[CV] END ...max_depth=10, max_features=sqrt, n_estimators=50; total time=   0.7s\n",
      "[CV] END ...max_depth=10, max_features=sqrt, n_estimators=50; total time=   0.7s\n",
      "[CV] END ..max_depth=10, max_features=sqrt, n_estimators=100; total time=   1.4s\n",
      "[CV] END ..max_depth=10, max_features=sqrt, n_estimators=100; total time=   1.4s\n",
      "[CV] END ..max_depth=10, max_features=sqrt, n_estimators=100; total time=   1.4s\n",
      "[CV] END ...max_depth=10, max_features=log2, n_estimators=10; total time=   0.2s\n",
      "[CV] END ...max_depth=10, max_features=log2, n_estimators=10; total time=   0.2s\n",
      "[CV] END ...max_depth=10, max_features=log2, n_estimators=10; total time=   0.1s\n",
      "[CV] END ...max_depth=10, max_features=log2, n_estimators=50; total time=   0.8s\n",
      "[CV] END ..max_depth=10, max_features=sqrt, n_estimators=200; total time=   3.1s\n",
      "[CV] END ...max_depth=10, max_features=log2, n_estimators=50; total time=   0.7s\n",
      "[CV] END ..max_depth=10, max_features=sqrt, n_estimators=200; total time=   2.9s\n",
      "[CV] END ...max_depth=10, max_features=log2, n_estimators=50; total time=   0.7s\n",
      "[CV] END ..max_depth=10, max_features=sqrt, n_estimators=200; total time=   2.7s\n",
      "[CV] END ..max_depth=10, max_features=log2, n_estimators=100; total time=   1.5s\n",
      "[CV] END ..max_depth=10, max_features=log2, n_estimators=100; total time=   1.4s\n",
      "[CV] END ..max_depth=10, max_features=log2, n_estimators=100; total time=   1.4s\n",
      "[CV] END ...max_depth=10, max_features=None, n_estimators=10; total time=   0.7s\n",
      "[CV] END ...max_depth=10, max_features=None, n_estimators=10; total time=   0.6s\n",
      "[CV] END ...max_depth=10, max_features=None, n_estimators=10; total time=   0.6s\n",
      "[CV] END ..max_depth=10, max_features=log2, n_estimators=200; total time=   3.0s\n",
      "[CV] END ..max_depth=10, max_features=log2, n_estimators=200; total time=   2.8s\n",
      "[CV] END ..max_depth=10, max_features=log2, n_estimators=200; total time=   2.9s\n",
      "[CV] END ...max_depth=10, max_features=None, n_estimators=50; total time=   3.0s\n",
      "[CV] END ...max_depth=10, max_features=None, n_estimators=50; total time=   3.2s\n",
      "[CV] END ...max_depth=10, max_features=None, n_estimators=50; total time=   2.9s\n",
      "[CV] END ..max_depth=10, max_features=None, n_estimators=100; total time=   6.7s\n",
      "[CV] END ..max_depth=10, max_features=None, n_estimators=100; total time=   6.0s\n",
      "[CV] END ..max_depth=10, max_features=None, n_estimators=100; total time=   6.5s\n",
      "[CV] END ...max_depth=12, max_features=sqrt, n_estimators=10; total time=   0.2s\n",
      "[CV] END ...max_depth=12, max_features=sqrt, n_estimators=10; total time=   0.2s\n",
      "[CV] END ...max_depth=12, max_features=sqrt, n_estimators=10; total time=   0.2s\n",
      "[CV] END ...max_depth=12, max_features=sqrt, n_estimators=50; total time=   0.8s\n",
      "[CV] END ...max_depth=12, max_features=sqrt, n_estimators=50; total time=   0.7s\n",
      "[CV] END ...max_depth=12, max_features=sqrt, n_estimators=50; total time=   0.7s\n",
      "[CV] END ..max_depth=12, max_features=sqrt, n_estimators=100; total time=   1.5s\n",
      "[CV] END ..max_depth=12, max_features=sqrt, n_estimators=100; total time=   1.5s\n",
      "[CV] END ..max_depth=12, max_features=sqrt, n_estimators=100; total time=   1.5s\n",
      "[CV] END ..max_depth=10, max_features=None, n_estimators=200; total time=  13.4s\n",
      "[CV] END ..max_depth=12, max_features=sqrt, n_estimators=200; total time=   3.2s\n",
      "[CV] END ..max_depth=10, max_features=None, n_estimators=200; total time=  12.8s\n",
      "[CV] END ..max_depth=12, max_features=sqrt, n_estimators=200; total time=   3.4s\n",
      "[CV] END ...max_depth=12, max_features=log2, n_estimators=10; total time=   0.2s\n",
      "[CV] END ...max_depth=12, max_features=log2, n_estimators=10; total time=   0.2s\n",
      "[CV] END ...max_depth=12, max_features=log2, n_estimators=10; total time=   0.2s\n",
      "[CV] END ..max_depth=10, max_features=None, n_estimators=200; total time=  11.8s\n",
      "[CV] END ...max_depth=12, max_features=log2, n_estimators=50; total time=   0.8s\n",
      "[CV] END ...max_depth=12, max_features=log2, n_estimators=50; total time=   0.8s\n",
      "[CV] END ...max_depth=12, max_features=log2, n_estimators=50; total time=   0.8s\n",
      "[CV] END ..max_depth=12, max_features=log2, n_estimators=100; total time=   1.7s\n",
      "[CV] END ..max_depth=12, max_features=log2, n_estimators=100; total time=   1.6s\n",
      "[CV] END ..max_depth=12, max_features=log2, n_estimators=100; total time=   1.5s\n",
      "[CV] END ..max_depth=12, max_features=sqrt, n_estimators=200; total time=   3.1s\n",
      "[CV] END ...max_depth=12, max_features=None, n_estimators=10; total time=   0.7s\n",
      "[CV] END ...max_depth=12, max_features=None, n_estimators=10; total time=   0.7s\n",
      "[CV] END ...max_depth=12, max_features=None, n_estimators=10; total time=   0.7s\n",
      "[CV] END ..max_depth=12, max_features=log2, n_estimators=200; total time=   3.1s\n",
      "[CV] END ..max_depth=12, max_features=log2, n_estimators=200; total time=   3.2s\n",
      "[CV] END ..max_depth=12, max_features=log2, n_estimators=200; total time=   3.2s\n",
      "[CV] END ...max_depth=12, max_features=None, n_estimators=50; total time=   3.8s\n",
      "[CV] END ...max_depth=12, max_features=None, n_estimators=50; total time=   3.3s\n",
      "[CV] END ...max_depth=12, max_features=None, n_estimators=50; total time=   3.5s\n",
      "[CV] END ..max_depth=12, max_features=None, n_estimators=100; total time=   7.3s\n",
      "[CV] END ..max_depth=12, max_features=None, n_estimators=100; total time=   6.3s\n",
      "[CV] END ..max_depth=12, max_features=None, n_estimators=100; total time=   7.0s\n",
      "[CV] END .max_depth=None, max_features=sqrt, n_estimators=10; total time=   0.2s\n",
      "[CV] END .max_depth=None, max_features=sqrt, n_estimators=10; total time=   0.2s\n",
      "[CV] END .max_depth=None, max_features=sqrt, n_estimators=10; total time=   0.2s\n",
      "[CV] END .max_depth=None, max_features=sqrt, n_estimators=50; total time=   1.0s\n",
      "[CV] END .max_depth=None, max_features=sqrt, n_estimators=50; total time=   1.0s\n",
      "[CV] END .max_depth=None, max_features=sqrt, n_estimators=50; total time=   1.1s\n",
      "[CV] END max_depth=None, max_features=sqrt, n_estimators=100; total time=   2.0s\n",
      "[CV] END max_depth=None, max_features=sqrt, n_estimators=100; total time=   1.9s\n",
      "[CV] END ..max_depth=12, max_features=None, n_estimators=200; total time=  14.6s\n",
      "[CV] END max_depth=None, max_features=sqrt, n_estimators=100; total time=   1.8s\n",
      "[CV] END ..max_depth=12, max_features=None, n_estimators=200; total time=  13.8s\n",
      "[CV] END max_depth=None, max_features=sqrt, n_estimators=200; total time=   3.9s\n",
      "[CV] END .max_depth=None, max_features=log2, n_estimators=10; total time=   0.2s\n",
      "[CV] END .max_depth=None, max_features=log2, n_estimators=10; total time=   0.2s\n",
      "[CV] END ..max_depth=12, max_features=None, n_estimators=200; total time=  12.9s\n",
      "[CV] END .max_depth=None, max_features=log2, n_estimators=10; total time=   0.2s\n",
      "[CV] END max_depth=None, max_features=sqrt, n_estimators=200; total time=   4.0s\n",
      "[CV] END .max_depth=None, max_features=log2, n_estimators=50; total time=   1.0s\n",
      "[CV] END .max_depth=None, max_features=log2, n_estimators=50; total time=   1.1s\n",
      "[CV] END .max_depth=None, max_features=log2, n_estimators=50; total time=   1.0s\n",
      "[CV] END max_depth=None, max_features=sqrt, n_estimators=200; total time=   3.7s\n",
      "[CV] END max_depth=None, max_features=log2, n_estimators=100; total time=   2.1s\n",
      "[CV] END max_depth=None, max_features=log2, n_estimators=100; total time=   2.1s\n",
      "[CV] END max_depth=None, max_features=log2, n_estimators=100; total time=   1.8s\n",
      "[CV] END .max_depth=None, max_features=None, n_estimators=10; total time=   0.8s\n",
      "[CV] END .max_depth=None, max_features=None, n_estimators=10; total time=   0.7s\n",
      "[CV] END .max_depth=None, max_features=None, n_estimators=10; total time=   0.7s\n",
      "[CV] END max_depth=None, max_features=log2, n_estimators=200; total time=   4.1s\n",
      "[CV] END max_depth=None, max_features=log2, n_estimators=200; total time=   3.6s\n",
      "[CV] END max_depth=None, max_features=log2, n_estimators=200; total time=   3.8s\n",
      "[CV] END .max_depth=None, max_features=None, n_estimators=50; total time=   3.9s\n",
      "[CV] END .max_depth=None, max_features=None, n_estimators=50; total time=   3.5s\n",
      "[CV] END .max_depth=None, max_features=None, n_estimators=50; total time=   3.8s\n",
      "[CV] END max_depth=None, max_features=None, n_estimators=100; total time=   8.2s\n",
      "[CV] END max_depth=None, max_features=None, n_estimators=100; total time=   7.1s\n",
      "[CV] END max_depth=None, max_features=None, n_estimators=100; total time=   7.9s\n",
      "[CV] END ...max_depth=15, max_features=sqrt, n_estimators=10; total time=   0.2s\n",
      "[CV] END ...max_depth=15, max_features=sqrt, n_estimators=10; total time=   0.2s\n",
      "[CV] END ...max_depth=15, max_features=sqrt, n_estimators=10; total time=   0.2s\n",
      "[CV] END ...max_depth=15, max_features=sqrt, n_estimators=50; total time=   0.9s\n",
      "[CV] END ...max_depth=15, max_features=sqrt, n_estimators=50; total time=   1.0s\n",
      "[CV] END ...max_depth=15, max_features=sqrt, n_estimators=50; total time=   0.8s\n",
      "[CV] END ..max_depth=15, max_features=sqrt, n_estimators=100; total time=   1.9s\n",
      "[CV] END ..max_depth=15, max_features=sqrt, n_estimators=100; total time=   1.7s\n",
      "[CV] END ..max_depth=15, max_features=sqrt, n_estimators=100; total time=   1.8s\n",
      "[CV] END max_depth=None, max_features=None, n_estimators=200; total time=  16.5s\n",
      "[CV] END ..max_depth=15, max_features=sqrt, n_estimators=200; total time=   3.6s\n",
      "[CV] END max_depth=None, max_features=None, n_estimators=200; total time=  15.4s\n",
      "[CV] END ..max_depth=15, max_features=sqrt, n_estimators=200; total time=   3.5s\n",
      "[CV] END ...max_depth=15, max_features=log2, n_estimators=10; total time=   0.2s\n",
      "[CV] END ...max_depth=15, max_features=log2, n_estimators=10; total time=   0.2s\n",
      "[CV] END ...max_depth=15, max_features=log2, n_estimators=10; total time=   0.2s\n",
      "[CV] END max_depth=None, max_features=None, n_estimators=200; total time=  14.3s\n",
      "[CV] END ...max_depth=15, max_features=log2, n_estimators=50; total time=   0.9s\n",
      "[CV] END ...max_depth=15, max_features=log2, n_estimators=50; total time=   0.9s\n",
      "[CV] END ...max_depth=15, max_features=log2, n_estimators=50; total time=   0.9s\n",
      "[CV] END ..max_depth=15, max_features=sqrt, n_estimators=200; total time=   3.6s\n",
      "[CV] END ..max_depth=15, max_features=log2, n_estimators=100; total time=   1.8s\n",
      "[CV] END ..max_depth=15, max_features=log2, n_estimators=100; total time=   2.0s\n",
      "[CV] END ..max_depth=15, max_features=log2, n_estimators=100; total time=   1.7s\n",
      "[CV] END ...max_depth=15, max_features=None, n_estimators=10; total time=   0.8s\n",
      "[CV] END ...max_depth=15, max_features=None, n_estimators=10; total time=   0.8s\n",
      "[CV] END ...max_depth=15, max_features=None, n_estimators=10; total time=   0.7s\n",
      "[CV] END ..max_depth=15, max_features=log2, n_estimators=200; total time=   3.2s\n",
      "[CV] END ..max_depth=15, max_features=log2, n_estimators=200; total time=   3.4s\n",
      "[CV] END ..max_depth=15, max_features=log2, n_estimators=200; total time=   3.6s\n",
      "[CV] END ...max_depth=15, max_features=None, n_estimators=50; total time=   3.9s\n",
      "[CV] END ...max_depth=15, max_features=None, n_estimators=50; total time=   3.4s\n",
      "[CV] END ...max_depth=15, max_features=None, n_estimators=50; total time=   3.8s\n",
      "[CV] END ..max_depth=15, max_features=None, n_estimators=100; total time=   7.8s\n",
      "[CV] END ..max_depth=15, max_features=None, n_estimators=100; total time=   6.7s\n",
      "[CV] END ..max_depth=15, max_features=None, n_estimators=100; total time=   7.3s\n",
      "[CV] END ...max_depth=20, max_features=sqrt, n_estimators=10; total time=   0.2s\n",
      "[CV] END ...max_depth=20, max_features=sqrt, n_estimators=10; total time=   0.2s\n",
      "[CV] END ...max_depth=20, max_features=sqrt, n_estimators=10; total time=   0.2s\n",
      "[CV] END ...max_depth=20, max_features=sqrt, n_estimators=50; total time=   0.9s\n",
      "[CV] END ...max_depth=20, max_features=sqrt, n_estimators=50; total time=   0.9s\n",
      "[CV] END ...max_depth=20, max_features=sqrt, n_estimators=50; total time=   1.0s\n",
      "[CV] END ..max_depth=20, max_features=sqrt, n_estimators=100; total time=   2.0s\n",
      "[CV] END ..max_depth=20, max_features=sqrt, n_estimators=100; total time=   1.8s\n",
      "[CV] END ..max_depth=15, max_features=None, n_estimators=200; total time=  15.4s\n",
      "[CV] END ..max_depth=20, max_features=sqrt, n_estimators=100; total time=   2.0s\n",
      "[CV] END ..max_depth=15, max_features=None, n_estimators=200; total time=  14.7s\n",
      "[CV] END ..max_depth=20, max_features=sqrt, n_estimators=200; total time=   3.9s\n",
      "[CV] END ...max_depth=20, max_features=log2, n_estimators=10; total time=   0.2s\n",
      "[CV] END ...max_depth=20, max_features=log2, n_estimators=10; total time=   0.2s\n",
      "[CV] END ...max_depth=20, max_features=log2, n_estimators=10; total time=   0.2s\n",
      "[CV] END ..max_depth=20, max_features=sqrt, n_estimators=200; total time=   3.8s\n",
      "[CV] END ..max_depth=15, max_features=None, n_estimators=200; total time=  13.8s\n",
      "[CV] END ...max_depth=20, max_features=log2, n_estimators=50; total time=   1.2s\n",
      "[CV] END ...max_depth=20, max_features=log2, n_estimators=50; total time=   1.1s\n",
      "[CV] END ...max_depth=20, max_features=log2, n_estimators=50; total time=   1.0s\n",
      "[CV] END ..max_depth=20, max_features=sqrt, n_estimators=200; total time=   3.8s\n",
      "[CV] END ..max_depth=20, max_features=log2, n_estimators=100; total time=   2.0s\n",
      "[CV] END ..max_depth=20, max_features=log2, n_estimators=100; total time=   1.9s\n",
      "[CV] END ..max_depth=20, max_features=log2, n_estimators=100; total time=   1.9s\n",
      "[CV] END ...max_depth=20, max_features=None, n_estimators=10; total time=   0.8s\n",
      "[CV] END ...max_depth=20, max_features=None, n_estimators=10; total time=   0.8s\n",
      "[CV] END ...max_depth=20, max_features=None, n_estimators=10; total time=   0.7s\n",
      "[CV] END ..max_depth=20, max_features=log2, n_estimators=200; total time=   3.9s\n",
      "[CV] END ..max_depth=20, max_features=log2, n_estimators=200; total time=   3.7s\n",
      "[CV] END ..max_depth=20, max_features=log2, n_estimators=200; total time=   3.8s\n",
      "[CV] END ...max_depth=20, max_features=None, n_estimators=50; total time=   4.1s\n",
      "[CV] END ...max_depth=20, max_features=None, n_estimators=50; total time=   3.4s\n",
      "[CV] END ...max_depth=20, max_features=None, n_estimators=50; total time=   3.7s\n",
      "[CV] END ..max_depth=20, max_features=None, n_estimators=100; total time=   7.9s\n",
      "[CV] END ..max_depth=20, max_features=None, n_estimators=100; total time=   7.1s\n",
      "[CV] END ..max_depth=20, max_features=None, n_estimators=100; total time=   7.9s\n",
      "[CV] END ..max_depth=20, max_features=None, n_estimators=200; total time=  14.3s\n",
      "[CV] END ..max_depth=20, max_features=None, n_estimators=200; total time=  13.3s\n",
      "[CV] END ..max_depth=20, max_features=None, n_estimators=200; total time=  11.8s\n",
      "Fitting 3 folds for each of 40 candidates, totalling 120 fits\n",
      "[CV] END .....algorithm=auto, n_neighbors=3, weights=uniform; total time=   0.5s[CV] END .....algorithm=auto, n_neighbors=3, weights=uniform; total time=   0.5s\n",
      "\n",
      "[CV] END ....algorithm=auto, n_neighbors=3, weights=distance; total time=   0.5s\n",
      "[CV] END .....algorithm=auto, n_neighbors=3, weights=uniform; total time=   0.5s\n",
      "[CV] END ....algorithm=auto, n_neighbors=3, weights=distance; total time=   0.5s\n",
      "[CV] END ....algorithm=auto, n_neighbors=3, weights=distance; total time=   0.5s\n",
      "[CV] END .....algorithm=auto, n_neighbors=4, weights=uniform; total time=   0.5s\n",
      "[CV] END .....algorithm=auto, n_neighbors=4, weights=uniform; total time=   0.6s\n",
      "[CV] END .....algorithm=auto, n_neighbors=4, weights=uniform; total time=   0.5s\n",
      "[CV] END ....algorithm=auto, n_neighbors=4, weights=distance; total time=   0.5s\n",
      "[CV] END ....algorithm=auto, n_neighbors=4, weights=distance; total time=   0.5s\n",
      "[CV] END ....algorithm=auto, n_neighbors=4, weights=distance; total time=   0.5s\n",
      "[CV] END .....algorithm=auto, n_neighbors=5, weights=uniform; total time=   0.5s\n",
      "[CV] END .....algorithm=auto, n_neighbors=5, weights=uniform; total time=   0.6s\n",
      "[CV] END .....algorithm=auto, n_neighbors=5, weights=uniform; total time=   0.5s\n",
      "[CV] END ....algorithm=auto, n_neighbors=5, weights=distance; total time=   0.6s\n",
      "[CV] END ....algorithm=auto, n_neighbors=5, weights=distance; total time=   0.5s\n",
      "[CV] END ....algorithm=auto, n_neighbors=5, weights=distance; total time=   0.6s\n",
      "[CV] END .....algorithm=auto, n_neighbors=7, weights=uniform; total time=   0.5s\n",
      "[CV] END .....algorithm=auto, n_neighbors=7, weights=uniform; total time=   0.5s\n",
      "[CV] END .....algorithm=auto, n_neighbors=7, weights=uniform; total time=   0.4s\n",
      "[CV] END ....algorithm=auto, n_neighbors=7, weights=distance; total time=   0.5s\n",
      "[CV] END ....algorithm=auto, n_neighbors=7, weights=distance; total time=   0.5s\n",
      "[CV] END ....algorithm=auto, n_neighbors=7, weights=distance; total time=   0.5s\n",
      "[CV] END .....algorithm=auto, n_neighbors=9, weights=uniform; total time=   0.5s\n",
      "[CV] END .....algorithm=auto, n_neighbors=9, weights=uniform; total time=   0.5s\n",
      "[CV] END ....algorithm=auto, n_neighbors=9, weights=distance; total time=   0.5s\n",
      "[CV] END .....algorithm=auto, n_neighbors=9, weights=uniform; total time=   0.5s\n",
      "[CV] END ....algorithm=auto, n_neighbors=9, weights=distance; total time=   0.5s\n",
      "[CV] END ....algorithm=auto, n_neighbors=9, weights=distance; total time=   0.5s\n",
      "[CV] END algorithm=ball_tree, n_neighbors=3, weights=uniform; total time=   1.8s\n",
      "[CV] END algorithm=ball_tree, n_neighbors=3, weights=uniform; total time=   1.9s\n",
      "[CV] END algorithm=ball_tree, n_neighbors=3, weights=distance; total time=   1.5s\n",
      "[CV] END algorithm=ball_tree, n_neighbors=3, weights=uniform; total time=   1.9s\n",
      "[CV] END algorithm=ball_tree, n_neighbors=3, weights=distance; total time=   1.5s\n",
      "[CV] END algorithm=ball_tree, n_neighbors=3, weights=distance; total time=   1.6s\n",
      "[CV] END algorithm=ball_tree, n_neighbors=4, weights=uniform; total time=   2.1s\n",
      "[CV] END algorithm=ball_tree, n_neighbors=4, weights=uniform; total time=   2.0s\n",
      "[CV] END algorithm=ball_tree, n_neighbors=4, weights=distance; total time=   1.7s\n",
      "[CV] END algorithm=ball_tree, n_neighbors=4, weights=uniform; total time=   2.1s\n",
      "[CV] END algorithm=ball_tree, n_neighbors=4, weights=distance; total time=   1.6s\n",
      "[CV] END algorithm=ball_tree, n_neighbors=4, weights=distance; total time=   1.7s\n",
      "[CV] END algorithm=ball_tree, n_neighbors=5, weights=uniform; total time=   2.1s\n",
      "[CV] END algorithm=ball_tree, n_neighbors=5, weights=uniform; total time=   2.1s\n",
      "[CV] END algorithm=ball_tree, n_neighbors=5, weights=distance; total time=   1.7s\n",
      "[CV] END algorithm=ball_tree, n_neighbors=5, weights=uniform; total time=   2.1s\n",
      "[CV] END algorithm=ball_tree, n_neighbors=5, weights=distance; total time=   1.9s\n",
      "[CV] END algorithm=ball_tree, n_neighbors=5, weights=distance; total time=   1.9s\n",
      "[CV] END algorithm=ball_tree, n_neighbors=7, weights=uniform; total time=   2.3s\n",
      "[CV] END algorithm=ball_tree, n_neighbors=7, weights=uniform; total time=   2.3s\n",
      "[CV] END algorithm=ball_tree, n_neighbors=7, weights=distance; total time=   1.8s\n",
      "[CV] END algorithm=ball_tree, n_neighbors=7, weights=uniform; total time=   2.2s\n",
      "[CV] END algorithm=ball_tree, n_neighbors=7, weights=distance; total time=   1.8s\n",
      "[CV] END algorithm=ball_tree, n_neighbors=7, weights=distance; total time=   1.8s\n",
      "[CV] END algorithm=ball_tree, n_neighbors=9, weights=uniform; total time=   2.2s\n",
      "[CV] END algorithm=ball_tree, n_neighbors=9, weights=uniform; total time=   2.2s\n",
      "[CV] END algorithm=ball_tree, n_neighbors=9, weights=distance; total time=   1.8s\n",
      "[CV] END algorithm=ball_tree, n_neighbors=9, weights=uniform; total time=   2.2s\n",
      "[CV] END ..algorithm=kd_tree, n_neighbors=3, weights=uniform; total time=   0.9s\n",
      "[CV] END ..algorithm=kd_tree, n_neighbors=3, weights=uniform; total time=   1.0s\n",
      "[CV] END algorithm=ball_tree, n_neighbors=9, weights=distance; total time=   1.8s\n",
      "[CV] END algorithm=ball_tree, n_neighbors=9, weights=distance; total time=   1.8s\n",
      "[CV] END .algorithm=kd_tree, n_neighbors=3, weights=distance; total time=   0.6s\n",
      "[CV] END ..algorithm=kd_tree, n_neighbors=3, weights=uniform; total time=   0.9s\n",
      "[CV] END .algorithm=kd_tree, n_neighbors=3, weights=distance; total time=   0.5s\n",
      "[CV] END .algorithm=kd_tree, n_neighbors=3, weights=distance; total time=   0.5s\n",
      "[CV] END .algorithm=kd_tree, n_neighbors=4, weights=distance; total time=   0.7s\n",
      "[CV] END ..algorithm=kd_tree, n_neighbors=4, weights=uniform; total time=   1.0s\n",
      "[CV] END ..algorithm=kd_tree, n_neighbors=4, weights=uniform; total time=   1.0s\n",
      "[CV] END ..algorithm=kd_tree, n_neighbors=4, weights=uniform; total time=   1.0s\n",
      "[CV] END .algorithm=kd_tree, n_neighbors=4, weights=distance; total time=   0.6s\n",
      "[CV] END .algorithm=kd_tree, n_neighbors=4, weights=distance; total time=   0.6s\n",
      "[CV] END ..algorithm=kd_tree, n_neighbors=5, weights=uniform; total time=   1.1s\n",
      "[CV] END ..algorithm=kd_tree, n_neighbors=5, weights=uniform; total time=   1.1s\n",
      "[CV] END .algorithm=kd_tree, n_neighbors=5, weights=distance; total time=   0.8s\n",
      "[CV] END ..algorithm=kd_tree, n_neighbors=5, weights=uniform; total time=   1.1s\n",
      "[CV] END .algorithm=kd_tree, n_neighbors=5, weights=distance; total time=   0.7s\n",
      "[CV] END .algorithm=kd_tree, n_neighbors=5, weights=distance; total time=   0.7s\n",
      "[CV] END ..algorithm=kd_tree, n_neighbors=7, weights=uniform; total time=   1.2s\n",
      "[CV] END .algorithm=kd_tree, n_neighbors=7, weights=distance; total time=   0.9s\n",
      "[CV] END ..algorithm=kd_tree, n_neighbors=7, weights=uniform; total time=   1.4s\n",
      "[CV] END ..algorithm=kd_tree, n_neighbors=7, weights=uniform; total time=   1.3s\n",
      "[CV] END .algorithm=kd_tree, n_neighbors=7, weights=distance; total time=   0.9s\n",
      "[CV] END .algorithm=kd_tree, n_neighbors=7, weights=distance; total time=   0.9s\n",
      "[CV] END ..algorithm=kd_tree, n_neighbors=9, weights=uniform; total time=   1.3s\n",
      "[CV] END ..algorithm=kd_tree, n_neighbors=9, weights=uniform; total time=   1.3s\n",
      "[CV] END .algorithm=kd_tree, n_neighbors=9, weights=distance; total time=   1.0s\n",
      "[CV] END ..algorithm=kd_tree, n_neighbors=9, weights=uniform; total time=   1.3s\n",
      "[CV] END ....algorithm=brute, n_neighbors=3, weights=uniform; total time=   0.5s\n",
      "[CV] END .algorithm=kd_tree, n_neighbors=9, weights=distance; total time=   1.0s\n",
      "[CV] END ....algorithm=brute, n_neighbors=3, weights=uniform; total time=   0.6s\n",
      "[CV] END .algorithm=kd_tree, n_neighbors=9, weights=distance; total time=   1.1s\n",
      "[CV] END ....algorithm=brute, n_neighbors=3, weights=uniform; total time=   0.5s\n",
      "[CV] END ...algorithm=brute, n_neighbors=3, weights=distance; total time=   0.5s\n",
      "[CV] END ...algorithm=brute, n_neighbors=3, weights=distance; total time=   0.4s\n",
      "[CV] END ...algorithm=brute, n_neighbors=3, weights=distance; total time=   0.4s\n",
      "[CV] END ....algorithm=brute, n_neighbors=4, weights=uniform; total time=   0.5s\n",
      "[CV] END ....algorithm=brute, n_neighbors=4, weights=uniform; total time=   0.5s\n",
      "[CV] END ....algorithm=brute, n_neighbors=4, weights=uniform; total time=   0.5s\n",
      "[CV] END ...algorithm=brute, n_neighbors=4, weights=distance; total time=   0.5s\n",
      "[CV] END ...algorithm=brute, n_neighbors=4, weights=distance; total time=   0.4s\n",
      "[CV] END ...algorithm=brute, n_neighbors=4, weights=distance; total time=   0.5s\n",
      "[CV] END ....algorithm=brute, n_neighbors=5, weights=uniform; total time=   0.5s\n",
      "[CV] END ....algorithm=brute, n_neighbors=5, weights=uniform; total time=   0.5s\n",
      "[CV] END ....algorithm=brute, n_neighbors=5, weights=uniform; total time=   0.5s\n",
      "[CV] END ...algorithm=brute, n_neighbors=5, weights=distance; total time=   0.5s\n",
      "[CV] END ...algorithm=brute, n_neighbors=5, weights=distance; total time=   0.4s\n",
      "[CV] END ...algorithm=brute, n_neighbors=5, weights=distance; total time=   0.4s\n",
      "[CV] END ....algorithm=brute, n_neighbors=7, weights=uniform; total time=   0.5s\n",
      "[CV] END ....algorithm=brute, n_neighbors=7, weights=uniform; total time=   0.5s\n",
      "[CV] END ...algorithm=brute, n_neighbors=7, weights=distance; total time=   0.5s\n",
      "[CV] END ....algorithm=brute, n_neighbors=7, weights=uniform; total time=   0.5s\n",
      "[CV] END ...algorithm=brute, n_neighbors=7, weights=distance; total time=   0.5s\n",
      "[CV] END ...algorithm=brute, n_neighbors=7, weights=distance; total time=   0.5s\n",
      "[CV] END ....algorithm=brute, n_neighbors=9, weights=uniform; total time=   0.5s\n",
      "[CV] END ....algorithm=brute, n_neighbors=9, weights=uniform; total time=   0.5s\n",
      "[CV] END ....algorithm=brute, n_neighbors=9, weights=uniform; total time=   0.5s\n",
      "[CV] END ...algorithm=brute, n_neighbors=9, weights=distance; total time=   0.5s\n",
      "[CV] END ...algorithm=brute, n_neighbors=9, weights=distance; total time=   0.4s\n",
      "[CV] END ...algorithm=brute, n_neighbors=9, weights=distance; total time=   0.4s\n",
      "---------------- Best Params for XGBoost -------------------\n",
      "{'min_child_weight': 1, 'max_depth': 9}\n",
      "---------------- Best Params for RF -------------------\n",
      "{'n_estimators': 100, 'max_features': 'sqrt', 'max_depth': None}\n",
      "---------------- Best Params for KNN -------------------\n",
      "{'weights': 'distance', 'n_neighbors': 4, 'algorithm': 'auto'}\n"
     ]
    }
   ],
   "source": [
    "from sklearn.model_selection import RandomizedSearchCV\n",
    "\n",
    "model_param = {}\n",
    "for name, model, params in randomcv_models:\n",
    "    random = RandomizedSearchCV(estimator=model,\n",
    "                                   param_distributions=params,\n",
    "                                   n_iter=100,\n",
    "                                   cv=3,\n",
    "                                   verbose=2, \n",
    "                                   n_jobs=-1)\n",
    "    random.fit(X_res, y_res)\n",
    "    model_param[name] = random.best_params_\n",
    "\n",
    "for model_name in model_param:\n",
    "    print(f\"---------------- Best Params for {model_name} -------------------\")\n",
    "    print(model_param[model_name])"
   ]
  },
  {
   "cell_type": "code",
   "execution_count": 52,
   "id": "6ff6e901",
   "metadata": {},
   "outputs": [
    {
     "data": {
      "text/plain": [
       "{'XGBoost': {'min_child_weight': 1, 'max_depth': 9},\n",
       " 'RF': {'n_estimators': 100, 'max_features': 'sqrt', 'max_depth': None},\n",
       " 'KNN': {'weights': 'distance', 'n_neighbors': 4, 'algorithm': 'auto'}}"
      ]
     },
     "execution_count": 52,
     "metadata": {},
     "output_type": "execute_result"
    }
   ],
   "source": [
    "model_param"
   ]
  },
  {
   "cell_type": "code",
   "execution_count": 53,
   "id": "b249c2f1",
   "metadata": {},
   "outputs": [
    {
     "name": "stdout",
     "output_type": "stream",
     "text": [
      "Random Forest Classifier\n",
      "Eğitim seti için model performansı\n",
      "- Doğruluk (Accuracy): 1.0000\n",
      "- F1 Skoru: 1.0000\n",
      "- Kesinlik (Precision): 1.0000\n",
      "- Duyarlılık (Recall): 1.0000\n",
      "- ROC AUC Skoru: 1.0000\n",
      "----------------------------------\n",
      "Test seti için model performansı\n",
      "- Doğruluk (Accuracy): 0.9513\n",
      "- F1 Skoru: 0.9552\n",
      "- Kesinlik (Precision): 0.9490\n",
      "- Duyarlılık (Recall): 0.9614\n",
      "- ROC AUC Skoru: 0.9504\n",
      "===================================\n",
      "\n",
      "\n",
      "KNeighborsClassifier\n",
      "Eğitim seti için model performansı\n",
      "- Doğruluk (Accuracy): 1.0000\n",
      "- F1 Skoru: 1.0000\n",
      "- Kesinlik (Precision): 1.0000\n",
      "- Duyarlılık (Recall): 1.0000\n",
      "- ROC AUC Skoru: 1.0000\n",
      "----------------------------------\n",
      "Test seti için model performansı\n",
      "- Doğruluk (Accuracy): 0.9683\n",
      "- F1 Skoru: 0.9711\n",
      "- Kesinlik (Precision): 0.9577\n",
      "- Duyarlılık (Recall): 0.9848\n",
      "- ROC AUC Skoru: 0.9669\n",
      "===================================\n",
      "\n",
      "\n",
      "XGBClassifier\n",
      "Eğitim seti için model performansı\n",
      "- Doğruluk (Accuracy): 0.9993\n",
      "- F1 Skoru: 0.9993\n",
      "- Kesinlik (Precision): 0.9986\n",
      "- Duyarlılık (Recall): 1.0000\n",
      "- ROC AUC Skoru: 0.9992\n",
      "----------------------------------\n",
      "Test seti için model performansı\n",
      "- Doğruluk (Accuracy): 0.9457\n",
      "- F1 Skoru: 0.9499\n",
      "- Kesinlik (Precision): 0.9475\n",
      "- Duyarlılık (Recall): 0.9522\n",
      "- ROC AUC Skoru: 0.9452\n",
      "===================================\n",
      "\n",
      "\n"
     ]
    }
   ],
   "source": [
    "from sklearn.metrics import roc_auc_score,roc_curve\n",
    "best_models = {\n",
    "    \"Random Forest Classifier\": RandomForestClassifier(**model_param['RF']),\n",
    "    \"KNeighborsClassifier\": KNeighborsClassifier(**model_param['KNN']),\n",
    "    \"XGBClassifier\": XGBClassifier(**model_param['XGBoost'],n_jobs=-1),\n",
    "}\n",
    "tuned_report =evaluate_models(X=X_res, y=y_res, models=best_models)"
   ]
  },
  {
   "cell_type": "code",
   "execution_count": 54,
   "id": "38fe2070",
   "metadata": {},
   "outputs": [
    {
     "data": {
      "text/html": [
       "<div>\n",
       "<style scoped>\n",
       "    .dataframe tbody tr th:only-of-type {\n",
       "        vertical-align: middle;\n",
       "    }\n",
       "\n",
       "    .dataframe tbody tr th {\n",
       "        vertical-align: top;\n",
       "    }\n",
       "\n",
       "    .dataframe thead th {\n",
       "        text-align: right;\n",
       "    }\n",
       "</style>\n",
       "<table border=\"1\" class=\"dataframe\">\n",
       "  <thead>\n",
       "    <tr style=\"text-align: right;\">\n",
       "      <th></th>\n",
       "      <th>Model Adı</th>\n",
       "      <th>Doğruluk (Accuracy)</th>\n",
       "    </tr>\n",
       "  </thead>\n",
       "  <tbody>\n",
       "    <tr>\n",
       "      <th>1</th>\n",
       "      <td>KNeighborsClassifier</td>\n",
       "      <td>0.968310</td>\n",
       "    </tr>\n",
       "    <tr>\n",
       "      <th>0</th>\n",
       "      <td>Random Forest Classifier</td>\n",
       "      <td>0.951291</td>\n",
       "    </tr>\n",
       "    <tr>\n",
       "      <th>2</th>\n",
       "      <td>XGBClassifier</td>\n",
       "      <td>0.945716</td>\n",
       "    </tr>\n",
       "  </tbody>\n",
       "</table>\n",
       "</div>"
      ],
      "text/plain": [
       "                  Model Adı  Doğruluk (Accuracy)\n",
       "1      KNeighborsClassifier             0.968310\n",
       "0  Random Forest Classifier             0.951291\n",
       "2             XGBClassifier             0.945716"
      ]
     },
     "execution_count": 54,
     "metadata": {},
     "output_type": "execute_result"
    }
   ],
   "source": [
    "tuned_report"
   ]
  },
  {
   "cell_type": "code",
   "execution_count": 55,
   "id": "fbfa5b2d",
   "metadata": {},
   "outputs": [
    {
     "name": "stdout",
     "output_type": "stream",
     "text": [
      "FINAL MODEL 'KNN'\n",
      "Accuracy Score value: 0.9683\n",
      "              precision    recall  f1-score   support\n",
      "\n",
      "           0       0.98      0.95      0.96      1568\n",
      "           1       0.96      0.98      0.97      1840\n",
      "\n",
      "    accuracy                           0.97      3408\n",
      "   macro avg       0.97      0.97      0.97      3408\n",
      "weighted avg       0.97      0.97      0.97      3408\n",
      "\n"
     ]
    }
   ],
   "source": [
    "best_model = KNeighborsClassifier(**model_param['KNN'])\n",
    "best_model = best_model.fit(X_train,y_train)\n",
    "y_pred = best_model.predict(X_test)\n",
    "score = accuracy_score(y_test,y_pred)\n",
    "cr = classification_report(y_test,y_pred)\n",
    "\n",
    "print(\"FINAL MODEL 'KNN'\")\n",
    "print (\"Accuracy Score value: {:.4f}\".format(score))\n",
    "print (cr)"
   ]
  },
  {
   "cell_type": "code",
   "execution_count": 56,
   "id": "eb7c1636",
   "metadata": {},
   "outputs": [
    {
     "data": {
      "text/plain": [
       "<sklearn.metrics._plot.confusion_matrix.ConfusionMatrixDisplay at 0x75541bcbe480>"
      ]
     },
     "execution_count": 56,
     "metadata": {},
     "output_type": "execute_result"
    },
    {
     "data": {
      "image/png": "[encoded data removed]",
      "text/plain": [
       "<Figure size 640x480 with 2 Axes>"
      ]
     },
     "metadata": {},
     "output_type": "display_data"
    }
   ],
   "source": [
    "from sklearn.metrics import ConfusionMatrixDisplay\n",
    "ConfusionMatrixDisplay.from_estimator(best_model, X_test, y_test)"
   ]
  },
  {
   "cell_type": "markdown",
   "id": "35703313",
   "metadata": {},
   "source": [
    "# Best Model is K-Nearest Neighbor(KNN) with Accuracy 96.6"
   ]
  },
  {
   "cell_type": "code",
   "execution_count": null,
   "id": "83939017",
   "metadata": {},
   "outputs": [],
   "source": []
  }
 ],
 "metadata": {
  "kernelspec": {
   "display_name": "sanal_ortam",
   "language": "python",
   "name": "python3"
  },
  "language_info": {
   "codemirror_mode": {
    "name": "ipython",
    "version": 3
   },
   "file_extension": ".py",
   "mimetype": "text/x-python",
   "name": "python",
   "nbconvert_exporter": "python",
   "pygments_lexer": "ipython3",
   "version": "3.12.1"
  }
 },
 "nbformat": 4,
 "nbformat_minor": 5
}
