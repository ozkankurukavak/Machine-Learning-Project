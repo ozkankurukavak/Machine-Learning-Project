{
 "cells": [
  {
   "cell_type": "markdown",
   "id": "927ecd7f",
   "metadata": {},
   "source": [
    "# ABD Vizesi Tahmin Projesi\n",
    "* Makine Öğrenimi Projesi Yaşam Döngüsü\n",
    "\t1.\tProblemin Anlaşılması\n",
    "\t2.\tVeri Toplama\n",
    "\t3.\tKeşifsel Veri Analizi (EDA)\n",
    "\t4.\tVeri Temizleme\n",
    "\t5.\tVeri Ön İşleme\n",
    "\t6.\tModel Eğitimi\n",
    "\t7.\tEn İyi Modelin Seçimi\n",
    "\n",
    "# Hakkında\n",
    "\n",
    "Amerika Birleşik Devletleri Göçmenlik ve Vatandaşlık Yasası (INA), yabancı işçilerin Amerika’ya geçici ya da kalıcı olarak çalışma izni almasına olanak tanır. Bu yasa, Amerika’daki işçileri iş yerinde olumsuz etkilerden korumayı ve yabancı işçilerin istihdam edilmesiyle ilgili gereklilikleri düzenler. Yabancı işçilerin Amerika’da çalışmasıyla ilgili göçmenlik programları, Yabancı Çalışan Sertifikası Ofisi (OFLC) tarafından yönetilmektedir.\n",
    "\n",
    "* 1) Problem Tanımı\n",
    "\n",
    "OFLC, yabancı işçileri Amerika Birleşik Devletleri’ne getirmek isteyen işverenler için iş sertifikası başvuruları alır ve bu başvurulara sertifika verir. Geçtiğimiz yıl başvuran kişi sayısı oldukça fazla olduğundan, OFLC, vize başvuru sahiplerini önceki verilere dayalı olarak sıralamak için makine öğrenimi modellerine ihtiyaç duymaktadır.\n",
    "Bu projede, verilen veri setini kullanarak bir sınıflandırma modeli oluşturacağız.\n",
    "\n",
    "Bu model, başvuru sahiplerinin vizesinin onaylanıp onaylanmayacağını tahmin edecektir.\n",
    "Ayrıca, başvuru sahipleri için vize verilip verilmeyeceğini etkileyen belirli kriterlere dayalı olarak, vize onaylanacak veya reddedilecek başvurular için uygun profilleri öneren bir sistem kuracağız.\n",
    "\n",
    "* 2) Veri Toplama\n",
    "\n",
    "Veri, Yabancı Çalışan Sertifikası Ofisi (OFLC) tarafından sağlanmaktadır.\n",
    "Veri seti, 25.480 satır ve 12 sütun içermektedir.\n",
    "Bu veri setine şu linkten ulaşabilirsiniz: Kaggle Veri Seti\n",
    "\n",
    "2.1 Veri ve Gerekli Paketlerin İçe Aktarılması\n",
    "\n",
    "Projenin başlangıcında, veriyi ve gerekli kütüphaneleri içe aktaracağız. Pandas, Numpy, Matplotlib, Seaborn ve Warnings gibi kütüphaneleri kullanarak veri analizini gerçekleştireceğiz."
   ]
  },
  {
   "cell_type": "code",
   "execution_count": 1,
   "id": "3d132b27",
   "metadata": {},
   "outputs": [],
   "source": [
    "import pandas as pd\n",
    "import numpy as np\n",
    "import matplotlib.pyplot as plt\n",
    "import seaborn as sns\n",
    "import plotly.express as px\n",
    "import warnings\n",
    "\n",
    "warnings.filterwarnings(\"ignore\")\n",
    "\n",
    "%matplotlib inline"
   ]
  },
  {
   "cell_type": "code",
   "execution_count": 2,
   "id": "4167c934",
   "metadata": {},
   "outputs": [
    {
     "data": {
      "text/html": [
       "<div>\n",
       "<style scoped>\n",
       "    .dataframe tbody tr th:only-of-type {\n",
       "        vertical-align: middle;\n",
       "    }\n",
       "\n",
       "    .dataframe tbody tr th {\n",
       "        vertical-align: top;\n",
       "    }\n",
       "\n",
       "    .dataframe thead th {\n",
       "        text-align: right;\n",
       "    }\n",
       "</style>\n",
       "<table border=\"1\" class=\"dataframe\">\n",
       "  <thead>\n",
       "    <tr style=\"text-align: right;\">\n",
       "      <th></th>\n",
       "      <th>case_id</th>\n",
       "      <th>continent</th>\n",
       "      <th>education_of_employee</th>\n",
       "      <th>has_job_experience</th>\n",
       "      <th>requires_job_training</th>\n",
       "      <th>no_of_employees</th>\n",
       "      <th>yr_of_estab</th>\n",
       "      <th>region_of_employment</th>\n",
       "      <th>prevailing_wage</th>\n",
       "      <th>unit_of_wage</th>\n",
       "      <th>full_time_position</th>\n",
       "      <th>case_status</th>\n",
       "    </tr>\n",
       "  </thead>\n",
       "  <tbody>\n",
       "    <tr>\n",
       "      <th>0</th>\n",
       "      <td>EZYV01</td>\n",
       "      <td>Asia</td>\n",
       "      <td>High School</td>\n",
       "      <td>N</td>\n",
       "      <td>N</td>\n",
       "      <td>14513</td>\n",
       "      <td>2007</td>\n",
       "      <td>West</td>\n",
       "      <td>592.2029</td>\n",
       "      <td>Hour</td>\n",
       "      <td>Y</td>\n",
       "      <td>Denied</td>\n",
       "    </tr>\n",
       "    <tr>\n",
       "      <th>1</th>\n",
       "      <td>EZYV02</td>\n",
       "      <td>Asia</td>\n",
       "      <td>Master's</td>\n",
       "      <td>Y</td>\n",
       "      <td>N</td>\n",
       "      <td>2412</td>\n",
       "      <td>2002</td>\n",
       "      <td>Northeast</td>\n",
       "      <td>83425.6500</td>\n",
       "      <td>Year</td>\n",
       "      <td>Y</td>\n",
       "      <td>Certified</td>\n",
       "    </tr>\n",
       "    <tr>\n",
       "      <th>2</th>\n",
       "      <td>EZYV03</td>\n",
       "      <td>Asia</td>\n",
       "      <td>Bachelor's</td>\n",
       "      <td>N</td>\n",
       "      <td>Y</td>\n",
       "      <td>44444</td>\n",
       "      <td>2008</td>\n",
       "      <td>West</td>\n",
       "      <td>122996.8600</td>\n",
       "      <td>Year</td>\n",
       "      <td>Y</td>\n",
       "      <td>Denied</td>\n",
       "    </tr>\n",
       "    <tr>\n",
       "      <th>3</th>\n",
       "      <td>EZYV04</td>\n",
       "      <td>Asia</td>\n",
       "      <td>Bachelor's</td>\n",
       "      <td>N</td>\n",
       "      <td>N</td>\n",
       "      <td>98</td>\n",
       "      <td>1897</td>\n",
       "      <td>West</td>\n",
       "      <td>83434.0300</td>\n",
       "      <td>Year</td>\n",
       "      <td>Y</td>\n",
       "      <td>Denied</td>\n",
       "    </tr>\n",
       "    <tr>\n",
       "      <th>4</th>\n",
       "      <td>EZYV05</td>\n",
       "      <td>Africa</td>\n",
       "      <td>Master's</td>\n",
       "      <td>Y</td>\n",
       "      <td>N</td>\n",
       "      <td>1082</td>\n",
       "      <td>2005</td>\n",
       "      <td>South</td>\n",
       "      <td>149907.3900</td>\n",
       "      <td>Year</td>\n",
       "      <td>Y</td>\n",
       "      <td>Certified</td>\n",
       "    </tr>\n",
       "  </tbody>\n",
       "</table>\n",
       "</div>"
      ],
      "text/plain": [
       "  case_id continent education_of_employee has_job_experience  \\\n",
       "0  EZYV01      Asia           High School                  N   \n",
       "1  EZYV02      Asia              Master's                  Y   \n",
       "2  EZYV03      Asia            Bachelor's                  N   \n",
       "3  EZYV04      Asia            Bachelor's                  N   \n",
       "4  EZYV05    Africa              Master's                  Y   \n",
       "\n",
       "  requires_job_training  no_of_employees  yr_of_estab region_of_employment  \\\n",
       "0                     N            14513         2007                 West   \n",
       "1                     N             2412         2002            Northeast   \n",
       "2                     Y            44444         2008                 West   \n",
       "3                     N               98         1897                 West   \n",
       "4                     N             1082         2005                South   \n",
       "\n",
       "   prevailing_wage unit_of_wage full_time_position case_status  \n",
       "0         592.2029         Hour                  Y      Denied  \n",
       "1       83425.6500         Year                  Y   Certified  \n",
       "2      122996.8600         Year                  Y      Denied  \n",
       "3       83434.0300         Year                  Y      Denied  \n",
       "4      149907.3900         Year                  Y   Certified  "
      ]
     },
     "execution_count": 2,
     "metadata": {},
     "output_type": "execute_result"
    }
   ],
   "source": [
    "df = pd.read_csv(\"EasyVisa.csv\")\n",
    "df.head()"
   ]
  },
  {
   "cell_type": "code",
   "execution_count": 3,
   "id": "d1c33bd4",
   "metadata": {},
   "outputs": [
    {
     "data": {
      "text/html": [
       "<div>\n",
       "<style scoped>\n",
       "    .dataframe tbody tr th:only-of-type {\n",
       "        vertical-align: middle;\n",
       "    }\n",
       "\n",
       "    .dataframe tbody tr th {\n",
       "        vertical-align: top;\n",
       "    }\n",
       "\n",
       "    .dataframe thead th {\n",
       "        text-align: right;\n",
       "    }\n",
       "</style>\n",
       "<table border=\"1\" class=\"dataframe\">\n",
       "  <thead>\n",
       "    <tr style=\"text-align: right;\">\n",
       "      <th></th>\n",
       "      <th>no_of_employees</th>\n",
       "      <th>yr_of_estab</th>\n",
       "      <th>prevailing_wage</th>\n",
       "    </tr>\n",
       "  </thead>\n",
       "  <tbody>\n",
       "    <tr>\n",
       "      <th>count</th>\n",
       "      <td>25480.000000</td>\n",
       "      <td>25480.000000</td>\n",
       "      <td>25480.000000</td>\n",
       "    </tr>\n",
       "    <tr>\n",
       "      <th>mean</th>\n",
       "      <td>5667.043210</td>\n",
       "      <td>1979.409929</td>\n",
       "      <td>74455.814592</td>\n",
       "    </tr>\n",
       "    <tr>\n",
       "      <th>std</th>\n",
       "      <td>22877.928848</td>\n",
       "      <td>42.366929</td>\n",
       "      <td>52815.942327</td>\n",
       "    </tr>\n",
       "    <tr>\n",
       "      <th>min</th>\n",
       "      <td>-26.000000</td>\n",
       "      <td>1800.000000</td>\n",
       "      <td>2.136700</td>\n",
       "    </tr>\n",
       "    <tr>\n",
       "      <th>25%</th>\n",
       "      <td>1022.000000</td>\n",
       "      <td>1976.000000</td>\n",
       "      <td>34015.480000</td>\n",
       "    </tr>\n",
       "    <tr>\n",
       "      <th>50%</th>\n",
       "      <td>2109.000000</td>\n",
       "      <td>1997.000000</td>\n",
       "      <td>70308.210000</td>\n",
       "    </tr>\n",
       "    <tr>\n",
       "      <th>75%</th>\n",
       "      <td>3504.000000</td>\n",
       "      <td>2005.000000</td>\n",
       "      <td>107735.512500</td>\n",
       "    </tr>\n",
       "    <tr>\n",
       "      <th>max</th>\n",
       "      <td>602069.000000</td>\n",
       "      <td>2016.000000</td>\n",
       "      <td>319210.270000</td>\n",
       "    </tr>\n",
       "  </tbody>\n",
       "</table>\n",
       "</div>"
      ],
      "text/plain": [
       "       no_of_employees   yr_of_estab  prevailing_wage\n",
       "count     25480.000000  25480.000000     25480.000000\n",
       "mean       5667.043210   1979.409929     74455.814592\n",
       "std       22877.928848     42.366929     52815.942327\n",
       "min         -26.000000   1800.000000         2.136700\n",
       "25%        1022.000000   1976.000000     34015.480000\n",
       "50%        2109.000000   1997.000000     70308.210000\n",
       "75%        3504.000000   2005.000000    107735.512500\n",
       "max      602069.000000   2016.000000    319210.270000"
      ]
     },
     "execution_count": 3,
     "metadata": {},
     "output_type": "execute_result"
    }
   ],
   "source": [
    "df.describe()"
   ]
  },
  {
   "cell_type": "code",
   "execution_count": 4,
   "id": "131c6ad7",
   "metadata": {},
   "outputs": [
    {
     "data": {
      "text/plain": [
       "(25480, 12)"
      ]
     },
     "execution_count": 4,
     "metadata": {},
     "output_type": "execute_result"
    }
   ],
   "source": [
    "df.shape"
   ]
  },
  {
   "cell_type": "markdown",
   "id": "f27a846e",
   "metadata": {},
   "source": [
    "# Check Datatypes in the dataset \n",
    "(Veri setindeki veri türlerini kontrol edelim)"
   ]
  },
  {
   "cell_type": "code",
   "execution_count": 5,
   "id": "94fb5420",
   "metadata": {},
   "outputs": [
    {
     "name": "stdout",
     "output_type": "stream",
     "text": [
      "<class 'pandas.core.frame.DataFrame'>\n",
      "RangeIndex: 25480 entries, 0 to 25479\n",
      "Data columns (total 12 columns):\n",
      " #   Column                 Non-Null Count  Dtype  \n",
      "---  ------                 --------------  -----  \n",
      " 0   case_id                25480 non-null  object \n",
      " 1   continent              25480 non-null  object \n",
      " 2   education_of_employee  25480 non-null  object \n",
      " 3   has_job_experience     25480 non-null  object \n",
      " 4   requires_job_training  25480 non-null  object \n",
      " 5   no_of_employees        25480 non-null  int64  \n",
      " 6   yr_of_estab            25480 non-null  int64  \n",
      " 7   region_of_employment   25480 non-null  object \n",
      " 8   prevailing_wage        25480 non-null  float64\n",
      " 9   unit_of_wage           25480 non-null  object \n",
      " 10  full_time_position     25480 non-null  object \n",
      " 11  case_status            25480 non-null  object \n",
      "dtypes: float64(1), int64(2), object(9)\n",
      "memory usage: 2.3+ MB\n"
     ]
    }
   ],
   "source": [
    "df.info()"
   ]
  },
  {
   "cell_type": "markdown",
   "id": "7576a9e1",
   "metadata": {},
   "source": [
    "# EXPLORING DATA\n",
    "(VERİ KEŞFİ)"
   ]
  },
  {
   "cell_type": "code",
   "execution_count": 6,
   "id": "9bdf1e81",
   "metadata": {},
   "outputs": [
    {
     "name": "stdout",
     "output_type": "stream",
     "text": [
      "Toplam 3 sayısal özellik var: ['no_of_employees', 'yr_of_estab', 'prevailing_wage']\n",
      "\n",
      "Toplam 9 kategorik özellik var: ['case_id', 'continent', 'education_of_employee', 'has_job_experience', 'requires_job_training', 'region_of_employment', 'unit_of_wage', 'full_time_position', 'case_status']\n"
     ]
    }
   ],
   "source": [
    "numeric_features = [feature for feature in df.columns if df[feature].dtype !='O']\n",
    "categorical_features = [feature for feature in df.columns if df[feature].dtype =='O']\n",
    "\n",
    "print('Toplam {} sayısal özellik var: {}'.format(len(numeric_features), numeric_features))\n",
    "print('\\nToplam {} kategorik özellik var: {}'.format(len(categorical_features), categorical_features))"
   ]
  },
  {
   "cell_type": "code",
   "execution_count": 7,
   "id": "3b0747ac",
   "metadata": {},
   "outputs": [
    {
     "name": "stdout",
     "output_type": "stream",
     "text": [
      "case_id\n",
      "EZYV25480    0.003925\n",
      "EZYV01       0.003925\n",
      "EZYV02       0.003925\n",
      "EZYV03       0.003925\n",
      "EZYV04       0.003925\n",
      "               ...   \n",
      "EZYV13       0.003925\n",
      "EZYV12       0.003925\n",
      "EZYV11       0.003925\n",
      "EZYV10       0.003925\n",
      "EZYV09       0.003925\n",
      "Name: proportion, Length: 25480, dtype: float64\n",
      "-----------------------------------\n",
      "continent\n",
      "Asia             66.173469\n",
      "Europe           14.646782\n",
      "North America    12.919937\n",
      "South America     3.343799\n",
      "Africa            2.162480\n",
      "Oceania           0.753532\n",
      "Name: proportion, dtype: float64\n",
      "-----------------------------------\n",
      "education_of_employee\n",
      "Bachelor's     40.164835\n",
      "Master's       37.810047\n",
      "High School    13.422292\n",
      "Doctorate       8.602826\n",
      "Name: proportion, dtype: float64\n",
      "-----------------------------------\n",
      "has_job_experience\n",
      "Y    58.092622\n",
      "N    41.907378\n",
      "Name: proportion, dtype: float64\n",
      "-----------------------------------\n",
      "requires_job_training\n",
      "N    88.402669\n",
      "Y    11.597331\n",
      "Name: proportion, dtype: float64\n",
      "-----------------------------------\n",
      "region_of_employment\n",
      "Northeast    28.237834\n",
      "South        27.539246\n",
      "West         25.847724\n",
      "Midwest      16.903454\n",
      "Island        1.471743\n",
      "Name: proportion, dtype: float64\n",
      "-----------------------------------\n",
      "unit_of_wage\n",
      "Year     90.117739\n",
      "Hour      8.465463\n",
      "Week      1.067504\n",
      "Month     0.349294\n",
      "Name: proportion, dtype: float64\n",
      "-----------------------------------\n",
      "full_time_position\n",
      "Y    89.375981\n",
      "N    10.624019\n",
      "Name: proportion, dtype: float64\n",
      "-----------------------------------\n",
      "case_status\n",
      "Certified    66.789639\n",
      "Denied       33.210361\n",
      "Name: proportion, dtype: float64\n",
      "-----------------------------------\n"
     ]
    }
   ],
   "source": [
    "# her kategorik sütunun değerlerinin dağılımını, her bir kategorinin toplam içindeki yüzdelik oranını hesaplayarak yazdırır.\n",
    "for col in categorical_features:\n",
    "    print(df[col].value_counts(normalize=True)*100)\n",
    "    print('-----------------------------------')"
   ]
  },
  {
   "cell_type": "markdown",
   "id": "bd5e6d20",
   "metadata": {},
   "source": [
    "# İçgörüler\n",
    "\t•\tcase_id her sütun için benzersiz değerlere sahiptir, bu nedenle önemsiz olduğundan düşürülebilir.\n",
    "\t•\tcontinent sütunu Asya’ya çok fazla eğilim göstermektedir. Bu yüzden diğer kategoriler birleştirilerek tek bir kategori oluşturulabilir.\n",
    "\t•\tunit_of_wage önemli bir sütun gibi görünüyor çünkü çoğu yıllık sözleşmelerdir.\n",
    "\n",
    "# Tek Değişkenli Analiz\n",
    "\n",
    "Tek değişkenli analiz, bir değişkenin analizi anlamına gelir. “Uni” öneki “bir” anlamına gelir. Tek değişkenli analiz, tek bir değişkenin değerlerinin dağılımını anlamayı amaçlar.\n",
    "\n",
    "Diğer Analiz Türleri:\n",
    "\t•\tÇift Değişkenli Analiz: İki değişkenin analizi.\n",
    "\t•\tÇok Değişkenli Analiz: İki veya daha fazla değişkenin analizi."
   ]
  },
  {
   "cell_type": "markdown",
   "id": "7ec6566a",
   "metadata": {},
   "source": [
    "# Numerical Features"
   ]
  },
  {
   "cell_type": "code",
   "execution_count": 8,
   "id": "a26371cc",
   "metadata": {},
   "outputs": [
    {
     "data": {
      "image/png": "[encoded data removed]",
      "text/plain": [
       "<Figure size 1500x1000 with 3 Axes>"
      ]
     },
     "metadata": {},
     "output_type": "display_data"
    }
   ],
   "source": [
    "# Grafik boyutunu ayarlıyoruz\n",
    "plt.figure(figsize=(15,10)) \n",
    "\n",
    "# Başlık ayarlarını yapıyoruz\n",
    "plt.suptitle('Sayısal Özelliklerin Tek Değişkenli Analizi', fontsize=20, fontweight='bold', alpha=0.8, y=1) \n",
    "\n",
    "# Sayısal özellikler üzerinde döngü başlatıyoruz\n",
    "for i in range (0, len(numeric_features)): \n",
    "    # Alt grafiklerde her bir özellik için ayrı grafik oluşturuyoruz\n",
    "    plt.subplot(2, 2, i+1) \n",
    "    # KDE (Kernel Density Estimation) ile her bir sayısal özellik için dağılım grafiği çiziyoruz\n",
    "    sns.kdeplot(x=df[numeric_features[i]], color='blue') \n",
    "    # Grafiğe x ekseni adı olarak sayısal özelliği ekliyoruz\n",
    "    plt.xlabel(numeric_features[i]) \n",
    "    # Grafiğin düzeninin bozulmaması için tight_layout kullanıyoruz\n",
    "    plt.tight_layout() "
   ]
  },
  {
   "cell_type": "markdown",
   "id": "e3e41f8a",
   "metadata": {},
   "source": [
    "* no_of_employees sütunu daha fazla çarpıklığa sahip gibi görünüyor, ancak bu durum aykırı değerlerden kaynaklanıyor olabilir.\n",
    "\t* yr_of_estab (kuruluş yılı) bir ayrık özelliktir.\n",
    "\t* privailing-wage (geçerli ücret) sağa çarpık bir dağılıma sahiptir."
   ]
  },
  {
   "cell_type": "markdown",
   "id": "0299a8c6",
   "metadata": {},
   "source": []
  },
  {
   "cell_type": "markdown",
   "id": "0b9b0da1",
   "metadata": {},
   "source": [
    "# Categorical Features"
   ]
  },
  {
   "cell_type": "code",
   "execution_count": null,
   "id": "816496b2",
   "metadata": {},
   "outputs": [],
   "source": [
    "\n",
    "plt.figure(figsize=(15,8))\n",
    "plt.suptitle('Univariate Analysis of Categorical Features', fontsize=20, fontweight='bold', alpha=0.8, y=1)\n",
    "\n",
    "for i in range(0,len(categorical_features)):\n",
    "    plt.subplot(3,3, i+1)\n",
    "    sns.countplot(x=df[categorical_features[i]])\n",
    "    plt.xlabel(categorical_features[i])\n",
    "    plt.tight_layout()"
   ]
  },
  {
   "cell_type": "markdown",
   "id": "de2da420",
   "metadata": {},
   "source": [
    "## İçgörüler\n",
    "\t•\trequires_job_training, unit_of_wage, full_time_position ve continent sütunlarında tek bir kategori baskın.\n",
    "\t•\tDiğer sütunlar dengeli bir dağılıma sahip.\n",
    "\n",
    "## Çok Değişkenli Analiz\n",
    "\n",
    "Çok değişkenli analiz, birden fazla değişkenin analizidir."
   ]
  },
  {
   "cell_type": "code",
   "execution_count": null,
   "id": "a3c57ef3",
   "metadata": {},
   "outputs": [],
   "source": [
    "discrete_features = [feature for feature in numeric_features if len(df[feature].unique())<=25]\n",
    "continuous_features = [feature for feature in numeric_features if len(df[feature].unique())>25]\n",
    "\n",
    "print('Toplam {} kesikli özellik bulunmaktadır: {}'.format(len(discrete_features), discrete_features))\n",
    "print('\\nToplam {} sürekli özellik bulunmaktadır: {}'.format(len(continuous_features), continuous_features))"
   ]
  },
  {
   "cell_type": "code",
   "execution_count": null,
   "id": "5f5fcaed",
   "metadata": {},
   "outputs": [],
   "source": []
  }
 ],
 "metadata": {
  "kernelspec": {
   "display_name": "sanal_ortam",
   "language": "python",
   "name": "python3"
  },
  "language_info": {
   "codemirror_mode": {
    "name": "ipython",
    "version": 3
   },
   "file_extension": ".py",
   "mimetype": "text/x-python",
   "name": "python",
   "nbconvert_exporter": "python",
   "pygments_lexer": "ipython3",
   "version": "3.12.1"
  }
 },
 "nbformat": 4,
 "nbformat_minor": 5
}
