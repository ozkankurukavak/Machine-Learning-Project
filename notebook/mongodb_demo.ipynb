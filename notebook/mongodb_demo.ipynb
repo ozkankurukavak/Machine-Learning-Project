{
 "cells": [
  {
   "cell_type": "code",
   "execution_count": null,
   "id": "66da65ee",
   "metadata": {},
   "outputs": [
    {
     "ename": "",
     "evalue": "",
     "output_type": "error",
     "traceback": [
      "\u001b[1;31m'sanal_ortam (Python 3.12.1)' ile hücreleri çalıştırmak için ipykernel paketi gerekir.\n",
      "\u001b[1;31m‘ipykernel’ paketini Python ortamına yükleyin. \n",
      "\u001b[1;31mKomut: ‘/workspaces/Machine-Learning-Project/sanal_ortam/bin/python -m pip install ipykernel -U --force-reinstall’"
     ]
    }
   ],
   "source": [
    "import pandas as pd"
   ]
  }
 ],
 "metadata": {
  "kernelspec": {
   "display_name": "sanal_ortam",
   "language": "python",
   "name": "python3"
  },
  "language_info": {
   "name": "python",
   "version": "3.12.1"
  }
 },
 "nbformat": 4,
 "nbformat_minor": 5
}
